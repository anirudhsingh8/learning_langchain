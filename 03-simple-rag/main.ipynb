{
 "cells": [
  {
   "cell_type": "code",
   "execution_count": 117,
   "id": "180da775",
   "metadata": {},
   "outputs": [],
   "source": [
    "from langchain_ollama import OllamaEmbeddings\n",
    "from langchain_community.document_loaders import PyPDFLoader\n",
    "from langchain_text_splitters import RecursiveCharacterTextSplitter\n",
    "from langchain_community.vectorstores import Chroma\n",
    "from langchain_core.prompts import PromptTemplate"
   ]
  },
  {
   "cell_type": "code",
   "execution_count": 118,
   "id": "5525e1c3",
   "metadata": {},
   "outputs": [
    {
     "data": {
      "text/plain": [
       "[Document(metadata={'producer': 'ReportLab PDF Library - www.reportlab.com', 'creator': '(unspecified)', 'creationdate': '2025-06-05T12:53:08+00:00', 'author': '(anonymous)', 'keywords': '', 'moddate': '2025-06-05T12:53:08+00:00', 'subject': '(unspecified)', 'title': '(anonymous)', 'trapped': '/False', 'source': 'data/EduTrack_FAQ_assignment.pdf', 'total_pages': 2, 'page': 0, 'page_label': '1'}, page_content='EduTrack – Frequently Asked Questions\\nQ1: What is EduTrack used for?\\nA1: EduTrack helps educational institutions monitor student engagement, analyze learning\\nbehavior, and proactively support at-risk learners through data-driven insights.\\nQ2: Which platforms does EduTrack integrate with?\\nA2: EduTrack integrates seamlessly with LMS platforms such as Moodle, Canvas,\\nBlackboard, Google Classroom, and can be extended to custom LMS solutions via API.\\nQ3: What types of student data does EduTrack analyze?\\nA3: It analyzes logins, session duration, assignment submission patterns, quiz scores,\\ndiscussion participation, video viewing activity, and more.\\nQ4: How does EduTrack predict dropout risks?\\nA4: The platform uses machine learning algorithms that flag students at risk based on\\ninactivity, declining academic performance, missed deadlines, and low participation.\\nQ5: How does EduTrack benefit teachers?\\nA5: Instructors receive weekly summaries, alerts about disengaged students, and tools to\\nsend personalized feedback or motivational nudges.\\nQ6: Can students access their own dashboards?\\nA6: Yes. Students can view their own learning progress, receive AI-generated tips, and\\ncompare their engagement anonymously against peers.\\nQ7: Does EduTrack support real-time notifications?\\nA7: Yes. Push notifications are sent to students and faculty for approaching deadlines, grade\\nupdates, course announcements, and risk alerts.\\nQ8: Is student data secure?\\nA8: Absolutely. EduTrack complies with FERPA and GDPR standards, uses 256-bit\\nencryption, and offers fine-grained access control by role.\\nQ9: Can the platform be customized for different programs or departments?\\nA9: Yes. Dashboards, KPIs, alert thresholds, and report formats can all be tailored for\\nacademic units or institutional needs.\\nQ10: What insights can academic administrators gain?'),\n",
       " Document(metadata={'producer': 'ReportLab PDF Library - www.reportlab.com', 'creator': '(unspecified)', 'creationdate': '2025-06-05T12:53:08+00:00', 'author': '(anonymous)', 'keywords': '', 'moddate': '2025-06-05T12:53:08+00:00', 'subject': '(unspecified)', 'title': '(anonymous)', 'trapped': '/False', 'source': 'data/EduTrack_FAQ_assignment.pdf', 'total_pages': 2, 'page': 1, 'page_label': '2'}, page_content='A10: Admins can track student performance trends across courses, compare program\\neffectiveness, and identify gaps in instructor engagement.\\nQ11: Is there a self-hosted version of EduTrack?\\nA11: Yes. EduTrack offers both cloud-hosted SaaS and on-premise deployments for\\ninstitutions with specific data residency needs.\\nQ12: What formats are reports available in?\\nA12: Reports can be downloaded in PDF, CSV, or Excel, and shared via secure URLs or\\nembedded into LMS dashboards.\\nQ13: How often is data updated in the system?\\nA13: Data is refreshed every hour by default. Real-time syncing options are available for\\npremium clients.\\nQ14: Can EduTrack be used in hybrid or blended learning models?\\nA14: Yes. EduTrack consolidates both online interaction data and offline metrics like\\nattendance to give a full picture of learner behavior.\\nQ15: Does EduTrack support attendance tracking?\\nA15: Yes. It offers digital attendance via QR codes, LMS-based check-ins, and integrations\\nwith biometric or RFID-based systems.\\nQ16: How is pricing structured?\\nA16: Pricing is based on the number of enrolled learners per year. Tiered pricing and volume\\ndiscounts are available for larger institutions.\\nQ17: Is training and onboarding included?\\nA17: Yes. New clients receive onboarding workshops, video tutorials, live Q&A; sessions, and\\naccess to EduTrack’s support portal.\\nQ18: Does EduTrack integrate with Student Information Systems (SIS)?\\nA18: Yes. It can sync with most SIS platforms to fetch enrollment, demographics, and\\nacademic standing data.\\nQ19: How does EduTrack notify instructors about at-risk students?\\nA19: Faculty receive weekly alerts and visual cues on their dashboards, highlighting students\\nwho need attention based on defined risk thresholds.\\nQ20: Where can users learn about new EduTrack features?\\nA20: Feature updates are published via in-app announcements, email newsletters, and the\\nEduTrack Knowledge Base.')]"
      ]
     },
     "execution_count": 118,
     "metadata": {},
     "output_type": "execute_result"
    }
   ],
   "source": [
    "# Data ingestion\n",
    "path = \"data/EduTrack_FAQ_assignment.pdf\"\n",
    "pdf_docs = PyPDFLoader(path).load()\n",
    "pdf_docs"
   ]
  },
  {
   "cell_type": "code",
   "execution_count": 119,
   "id": "49af2c1c",
   "metadata": {},
   "outputs": [
    {
     "data": {
      "text/plain": [
       "[Document(metadata={'producer': 'ReportLab PDF Library - www.reportlab.com', 'creator': '(unspecified)', 'creationdate': '2025-06-05T12:53:08+00:00', 'author': '(anonymous)', 'keywords': '', 'moddate': '2025-06-05T12:53:08+00:00', 'subject': '(unspecified)', 'title': '(anonymous)', 'trapped': '/False', 'source': 'data/EduTrack_FAQ_assignment.pdf', 'total_pages': 2, 'page': 0, 'page_label': '1'}, page_content='EduTrack – Frequently Asked Questions\\nQ1: What is EduTrack used for?\\nA1: EduTrack helps educational institutions monitor student engagement, analyze learning\\nbehavior, and proactively support at-risk learners through data-driven insights.\\nQ2: Which platforms does EduTrack integrate with?\\nA2: EduTrack integrates seamlessly with LMS platforms such as Moodle, Canvas,\\nBlackboard, Google Classroom, and can be extended to custom LMS solutions via API.'),\n",
       " Document(metadata={'producer': 'ReportLab PDF Library - www.reportlab.com', 'creator': '(unspecified)', 'creationdate': '2025-06-05T12:53:08+00:00', 'author': '(anonymous)', 'keywords': '', 'moddate': '2025-06-05T12:53:08+00:00', 'subject': '(unspecified)', 'title': '(anonymous)', 'trapped': '/False', 'source': 'data/EduTrack_FAQ_assignment.pdf', 'total_pages': 2, 'page': 0, 'page_label': '1'}, page_content='Q3: What types of student data does EduTrack analyze?\\nA3: It analyzes logins, session duration, assignment submission patterns, quiz scores,\\ndiscussion participation, video viewing activity, and more.\\nQ4: How does EduTrack predict dropout risks?\\nA4: The platform uses machine learning algorithms that flag students at risk based on\\ninactivity, declining academic performance, missed deadlines, and low participation.\\nQ5: How does EduTrack benefit teachers?'),\n",
       " Document(metadata={'producer': 'ReportLab PDF Library - www.reportlab.com', 'creator': '(unspecified)', 'creationdate': '2025-06-05T12:53:08+00:00', 'author': '(anonymous)', 'keywords': '', 'moddate': '2025-06-05T12:53:08+00:00', 'subject': '(unspecified)', 'title': '(anonymous)', 'trapped': '/False', 'source': 'data/EduTrack_FAQ_assignment.pdf', 'total_pages': 2, 'page': 0, 'page_label': '1'}, page_content='A5: Instructors receive weekly summaries, alerts about disengaged students, and tools to\\nsend personalized feedback or motivational nudges.\\nQ6: Can students access their own dashboards?\\nA6: Yes. Students can view their own learning progress, receive AI-generated tips, and\\ncompare their engagement anonymously against peers.\\nQ7: Does EduTrack support real-time notifications?\\nA7: Yes. Push notifications are sent to students and faculty for approaching deadlines, grade'),\n",
       " Document(metadata={'producer': 'ReportLab PDF Library - www.reportlab.com', 'creator': '(unspecified)', 'creationdate': '2025-06-05T12:53:08+00:00', 'author': '(anonymous)', 'keywords': '', 'moddate': '2025-06-05T12:53:08+00:00', 'subject': '(unspecified)', 'title': '(anonymous)', 'trapped': '/False', 'source': 'data/EduTrack_FAQ_assignment.pdf', 'total_pages': 2, 'page': 0, 'page_label': '1'}, page_content='updates, course announcements, and risk alerts.\\nQ8: Is student data secure?\\nA8: Absolutely. EduTrack complies with FERPA and GDPR standards, uses 256-bit\\nencryption, and offers fine-grained access control by role.\\nQ9: Can the platform be customized for different programs or departments?\\nA9: Yes. Dashboards, KPIs, alert thresholds, and report formats can all be tailored for\\nacademic units or institutional needs.\\nQ10: What insights can academic administrators gain?'),\n",
       " Document(metadata={'producer': 'ReportLab PDF Library - www.reportlab.com', 'creator': '(unspecified)', 'creationdate': '2025-06-05T12:53:08+00:00', 'author': '(anonymous)', 'keywords': '', 'moddate': '2025-06-05T12:53:08+00:00', 'subject': '(unspecified)', 'title': '(anonymous)', 'trapped': '/False', 'source': 'data/EduTrack_FAQ_assignment.pdf', 'total_pages': 2, 'page': 1, 'page_label': '2'}, page_content='A10: Admins can track student performance trends across courses, compare program\\neffectiveness, and identify gaps in instructor engagement.\\nQ11: Is there a self-hosted version of EduTrack?\\nA11: Yes. EduTrack offers both cloud-hosted SaaS and on-premise deployments for\\ninstitutions with specific data residency needs.\\nQ12: What formats are reports available in?\\nA12: Reports can be downloaded in PDF, CSV, or Excel, and shared via secure URLs or\\nembedded into LMS dashboards.'),\n",
       " Document(metadata={'producer': 'ReportLab PDF Library - www.reportlab.com', 'creator': '(unspecified)', 'creationdate': '2025-06-05T12:53:08+00:00', 'author': '(anonymous)', 'keywords': '', 'moddate': '2025-06-05T12:53:08+00:00', 'subject': '(unspecified)', 'title': '(anonymous)', 'trapped': '/False', 'source': 'data/EduTrack_FAQ_assignment.pdf', 'total_pages': 2, 'page': 1, 'page_label': '2'}, page_content='Q13: How often is data updated in the system?\\nA13: Data is refreshed every hour by default. Real-time syncing options are available for\\npremium clients.\\nQ14: Can EduTrack be used in hybrid or blended learning models?\\nA14: Yes. EduTrack consolidates both online interaction data and offline metrics like\\nattendance to give a full picture of learner behavior.\\nQ15: Does EduTrack support attendance tracking?\\nA15: Yes. It offers digital attendance via QR codes, LMS-based check-ins, and integrations'),\n",
       " Document(metadata={'producer': 'ReportLab PDF Library - www.reportlab.com', 'creator': '(unspecified)', 'creationdate': '2025-06-05T12:53:08+00:00', 'author': '(anonymous)', 'keywords': '', 'moddate': '2025-06-05T12:53:08+00:00', 'subject': '(unspecified)', 'title': '(anonymous)', 'trapped': '/False', 'source': 'data/EduTrack_FAQ_assignment.pdf', 'total_pages': 2, 'page': 1, 'page_label': '2'}, page_content='with biometric or RFID-based systems.\\nQ16: How is pricing structured?\\nA16: Pricing is based on the number of enrolled learners per year. Tiered pricing and volume\\ndiscounts are available for larger institutions.\\nQ17: Is training and onboarding included?\\nA17: Yes. New clients receive onboarding workshops, video tutorials, live Q&A; sessions, and\\naccess to EduTrack’s support portal.\\nQ18: Does EduTrack integrate with Student Information Systems (SIS)?'),\n",
       " Document(metadata={'producer': 'ReportLab PDF Library - www.reportlab.com', 'creator': '(unspecified)', 'creationdate': '2025-06-05T12:53:08+00:00', 'author': '(anonymous)', 'keywords': '', 'moddate': '2025-06-05T12:53:08+00:00', 'subject': '(unspecified)', 'title': '(anonymous)', 'trapped': '/False', 'source': 'data/EduTrack_FAQ_assignment.pdf', 'total_pages': 2, 'page': 1, 'page_label': '2'}, page_content='A18: Yes. It can sync with most SIS platforms to fetch enrollment, demographics, and\\nacademic standing data.\\nQ19: How does EduTrack notify instructors about at-risk students?\\nA19: Faculty receive weekly alerts and visual cues on their dashboards, highlighting students\\nwho need attention based on defined risk thresholds.\\nQ20: Where can users learn about new EduTrack features?\\nA20: Feature updates are published via in-app announcements, email newsletters, and the\\nEduTrack Knowledge Base.')]"
      ]
     },
     "execution_count": 119,
     "metadata": {},
     "output_type": "execute_result"
    }
   ],
   "source": [
    "# Chunking\n",
    "chunker = RecursiveCharacterTextSplitter(\n",
    "    chunk_size = 500,\n",
    "    chunk_overlap = 10,\n",
    ")\n",
    "\n",
    "chunked_docs = chunker.split_documents(pdf_docs)\n",
    "chunked_docs"
   ]
  },
  {
   "cell_type": "code",
   "execution_count": 120,
   "id": "a8727fa6",
   "metadata": {},
   "outputs": [],
   "source": [
    "# Vectorise and store\n",
    "embedding = OllamaEmbeddings(\n",
    "    model=\"nomic-embed-text:latest\"\n",
    ")\n",
    "vector_db = Chroma.from_documents(chunked_docs, embedding)"
   ]
  },
  {
   "cell_type": "code",
   "execution_count": 121,
   "id": "66587dd6",
   "metadata": {},
   "outputs": [
    {
     "name": "stdout",
     "output_type": "stream",
     "text": [
      "Q3: What types of student data does EduTrack analyze?\n",
      "A3: It analyzes logins, session duration, assignment submission patterns, quiz scores,\n",
      "discussion participation, video viewing activity, and more.\n",
      "Q4: How does EduTrack predict dropout risks?\n",
      "A4: The platform uses machine learning algorithms that flag students at risk based on\n",
      "inactivity, declining academic performance, missed deadlines, and low participation.\n",
      "Q5: How does EduTrack benefit teachers?Q3: What types of student data does EduTrack analyze?\n",
      "A3: It analyzes logins, session duration, assignment submission patterns, quiz scores,\n",
      "discussion participation, video viewing activity, and more.\n",
      "Q4: How does EduTrack predict dropout risks?\n",
      "A4: The platform uses machine learning algorithms that flag students at risk based on\n",
      "inactivity, declining academic performance, missed deadlines, and low participation.\n",
      "Q5: How does EduTrack benefit teachers?A18: Yes. It can sync with most SIS platforms to fetch enrollment, demographics, and\n",
      "academic standing data.\n",
      "Q19: How does EduTrack notify instructors about at-risk students?\n",
      "A19: Faculty receive weekly alerts and visual cues on their dashboards, highlighting students\n",
      "who need attention based on defined risk thresholds.\n",
      "Q20: Where can users learn about new EduTrack features?\n",
      "A20: Feature updates are published via in-app announcements, email newsletters, and the\n",
      "EduTrack Knowledge Base.A18: Yes. It can sync with most SIS platforms to fetch enrollment, demographics, and\n",
      "academic standing data.\n",
      "Q19: How does EduTrack notify instructors about at-risk students?\n",
      "A19: Faculty receive weekly alerts and visual cues on their dashboards, highlighting students\n",
      "who need attention based on defined risk thresholds.\n",
      "Q20: Where can users learn about new EduTrack features?\n",
      "A20: Feature updates are published via in-app announcements, email newsletters, and the\n",
      "EduTrack Knowledge Base.\n"
     ]
    }
   ],
   "source": [
    "res = vector_db.similarity_search(\"How does EduTrack predict dropout risks\")\n",
    "print(\"\".join([doc.page_content for doc in res]))"
   ]
  },
  {
   "cell_type": "code",
   "execution_count": 122,
   "id": "3ba619ba",
   "metadata": {},
   "outputs": [
    {
     "data": {
      "text/plain": [
       "RunnableBinding(bound=RunnableAssign(mapper={\n",
       "  context: RunnableBinding(bound=RunnableLambda(lambda x: x['input'])\n",
       "           | VectorStoreRetriever(tags=['Chroma', 'OllamaEmbeddings'], vectorstore=<langchain_community.vectorstores.chroma.Chroma object at 0x30256deb0>, search_kwargs={}), kwargs={}, config={'run_name': 'retrieve_documents'}, config_factories=[])\n",
       "})\n",
       "| RunnableAssign(mapper={\n",
       "    answer: RunnableBinding(bound=RunnableBinding(bound=RunnableAssign(mapper={\n",
       "              context: RunnableLambda(format_docs)\n",
       "            }), kwargs={}, config={'run_name': 'format_inputs'}, config_factories=[])\n",
       "            | PromptTemplate(input_variables=['context', 'input'], input_types={}, partial_variables={}, template='\\n                                          You are a helpful assistant who only answers to any question based on the provided context. \\n                                          \\n                                          <context>{context}</context> \\n                                           \\n                                          Question: {input}\\n\\n                                          NOTE: DO NOT INCLUDE RESULTS/PIECES OF RETIRVED CONTEXT DIRECTLY TO THE USER THEY MAY CONTAIN UNFORMATTED SYMBOLS. IF\\n                                          YOU REALLY WANT TO SHOW SOMETHING THEN FIRST CLEAN IT AND THEN SHOW.\\n                                          ')\n",
       "            | ChatOllama(model='llama3.1:8b')\n",
       "            | StrOutputParser(), kwargs={}, config={'run_name': 'stuff_documents_chain'}, config_factories=[])\n",
       "  }), kwargs={}, config={'run_name': 'retrieval_chain'}, config_factories=[])"
      ]
     },
     "execution_count": 122,
     "metadata": {},
     "output_type": "execute_result"
    }
   ],
   "source": [
    "# Query the llm with context pulling\n",
    "from langchain.chains.combine_documents import create_stuff_documents_chain\n",
    "from langchain.chains.retrieval import create_retrieval_chain\n",
    "from langchain_ollama.chat_models import ChatOllama\n",
    "\n",
    "prompt = PromptTemplate.from_template('''\n",
    "                                          You are a helpful assistant who only answers to any question based on the provided context. \n",
    "                                          \n",
    "                                          <context>{context}</context> \n",
    "                                           \n",
    "                                          Question: {input}\n",
    "\n",
    "                                          NOTE: DO NOT INCLUDE RESULTS/PIECES OF RETIRVED CONTEXT DIRECTLY TO THE USER THEY MAY CONTAIN UNFORMATTED SYMBOLS. IF\n",
    "                                          YOU REALLY WANT TO SHOW SOMETHING THEN FIRST CLEAN IT AND THEN SHOW.\n",
    "                                          ''')\n",
    "llm = ChatOllama(model=\"llama3.1:8b\")\n",
    "stuff_doc_chain = create_stuff_documents_chain(llm, prompt)\n",
    "\n",
    "retriever = vector_db.as_retriever()\n",
    "retrieval_chain = create_retrieval_chain(retriever, stuff_doc_chain)\n",
    "retrieval_chain"
   ]
  },
  {
   "cell_type": "code",
   "execution_count": 123,
   "id": "ac8ccd74",
   "metadata": {},
   "outputs": [
    {
     "data": {
      "text/plain": [
       "\"EduTrack benefits teachers by providing them with valuable insights and tools to support student success. The platform helps teachers identify at-risk students early on, allowing them to intervene and provide targeted support. This enables teachers to tailor their instruction to meet the needs of all students, improve academic performance, and ultimately reduce dropout risks.\\n\\nAdditionally, EduTrack's weekly alerts and visual cues help faculty stay informed about students who need attention, making it easier for them to manage their classrooms effectively.\\n\\nIn short, EduTrack supports teachers by providing data-driven insights, enabling early intervention, and facilitating targeted support to improve student outcomes.\""
      ]
     },
     "execution_count": 123,
     "metadata": {},
     "output_type": "execute_result"
    }
   ],
   "source": [
    "results = retrieval_chain.invoke({\n",
    "    \"input\": \"How does EduTrack benefit teachers?\"\n",
    "})\n",
    "results['answer']"
   ]
  },
  {
   "cell_type": "code",
   "execution_count": 124,
   "id": "090eb9a2",
   "metadata": {},
   "outputs": [
    {
     "data": {
      "text/plain": [
       "\"Unfortunately, the provided context does not directly address how EduTrack benefits students. However, based on other questions and answers, we can infer that EduTrack might help identify at-risk students (Q19 & A19) and provide early intervention opportunities.\\n\\nConsidering this indirect information, a possible answer to your question could be:\\n\\nEduTrack's ability to predict dropout risks (A4) and notify instructors about at-risk students (A19) may ultimately benefit students by providing them with timely support and resources to improve their academic performance.\""
      ]
     },
     "execution_count": 124,
     "metadata": {},
     "output_type": "execute_result"
    }
   ],
   "source": [
    "results = retrieval_chain.invoke({\n",
    "    \"input\": \"How does EduTrack benefit students?\"\n",
    "})\n",
    "results['answer']"
   ]
  },
  {
   "cell_type": "code",
   "execution_count": 125,
   "id": "d06a0067",
   "metadata": {},
   "outputs": [
    {
     "data": {
      "text/plain": [
       "'Yes, you can self-host EduTrack. It offers both cloud-hosted SaaS and on-premise deployments for institutions with specific data residency needs.'"
      ]
     },
     "execution_count": 125,
     "metadata": {},
     "output_type": "execute_result"
    }
   ],
   "source": [
    "results = retrieval_chain.invoke({\n",
    "    \"input\": \"Can I self host it?\"\n",
    "})\n",
    "results['answer']"
   ]
  },
  {
   "cell_type": "code",
   "execution_count": 126,
   "id": "bb77afaf",
   "metadata": {},
   "outputs": [
    {
     "name": "stdout",
     "output_type": "stream",
     "text": [
      "Based on the provided context, there is no direct mention of customizable reporting or dashboards. However, it can be inferred that instructors have access to a dashboard with visual cues and tools to send personalized feedback or motivational nudges (Q5), and students can view their own learning progress on their dashboards (Q6).\n",
      "\n",
      "But, one related information suggests that the application sends push notifications for approaching deadlines, grade changes etc. which can indirectly imply some form of customizable reporting or alert system based on user-defined settings or thresholds.\n",
      "\n",
      "To provide a more accurate answer: There is no explicit mention of customizable reporting, but it's possible that some level of customization exists through defined risk thresholds (A19) and the ability to send personalized feedback or motivational nudges.\n"
     ]
    }
   ],
   "source": [
    "results = retrieval_chain.invoke({\n",
    "    \"input\": \"Does it have customizable reporting or dashboards?\"\n",
    "})\n",
    "\n",
    "print(results['answer'])"
   ]
  },
  {
   "cell_type": "code",
   "execution_count": null,
   "id": "0d0892cd",
   "metadata": {},
   "outputs": [],
   "source": []
  }
 ],
 "metadata": {
  "kernelspec": {
   "display_name": "base",
   "language": "python",
   "name": "python3"
  },
  "language_info": {
   "codemirror_mode": {
    "name": "ipython",
    "version": 3
   },
   "file_extension": ".py",
   "mimetype": "text/x-python",
   "name": "python",
   "nbconvert_exporter": "python",
   "pygments_lexer": "ipython3",
   "version": "3.12.7"
  }
 },
 "nbformat": 4,
 "nbformat_minor": 5
}
