{
 "cells": [
  {
   "cell_type": "code",
   "execution_count": 1,
   "id": "c5331d6f",
   "metadata": {},
   "outputs": [],
   "source": [
    "# Basic PDF RAG with chat history\n",
    "# 1. Data ingestion\n",
    "# 2. Data chunking\n",
    "# 3. Vectorise and store the data using embeddings\n",
    "# 4. Setup base prompt and history session arch.\n",
    "# 5. Setup core chain which connects everything\n",
    "# 6. Start testing!"
   ]
  },
  {
   "cell_type": "code",
   "execution_count": 2,
   "id": "720a0bf0",
   "metadata": {},
   "outputs": [],
   "source": [
    "# Data ingestion and splitting/chunking\n",
    "from langchain_community.document_loaders import PyPDFLoader\n",
    "from langchain_text_splitters import RecursiveCharacterTextSplitter\n",
    "\n",
    "splitter = RecursiveCharacterTextSplitter(chunk_size=800, chunk_overlap=50)\n",
    "pdf_splitted = PyPDFLoader(file_path=\"data/EduTrack_FAQ_assignment.pdf\").load_and_split(text_splitter=splitter)"
   ]
  },
  {
   "cell_type": "code",
   "execution_count": 3,
   "id": "345f22e4",
   "metadata": {},
   "outputs": [
    {
     "data": {
      "text/plain": [
       "[Document(metadata={'producer': 'ReportLab PDF Library - www.reportlab.com', 'creator': '(unspecified)', 'creationdate': '2025-06-05T12:53:08+00:00', 'author': '(anonymous)', 'keywords': '', 'moddate': '2025-06-05T12:53:08+00:00', 'subject': '(unspecified)', 'title': '(anonymous)', 'trapped': '/False', 'source': 'data/EduTrack_FAQ_assignment.pdf', 'total_pages': 2, 'page': 0, 'page_label': '1'}, page_content='EduTrack – Frequently Asked Questions\\nQ1: What is EduTrack used for?\\nA1: EduTrack helps educational institutions monitor student engagement, analyze learning\\nbehavior, and proactively support at-risk learners through data-driven insights.\\nQ2: Which platforms does EduTrack integrate with?\\nA2: EduTrack integrates seamlessly with LMS platforms such as Moodle, Canvas,\\nBlackboard, Google Classroom, and can be extended to custom LMS solutions via API.\\nQ3: What types of student data does EduTrack analyze?\\nA3: It analyzes logins, session duration, assignment submission patterns, quiz scores,\\ndiscussion participation, video viewing activity, and more.\\nQ4: How does EduTrack predict dropout risks?\\nA4: The platform uses machine learning algorithms that flag students at risk based on'),\n",
       " Document(metadata={'producer': 'ReportLab PDF Library - www.reportlab.com', 'creator': '(unspecified)', 'creationdate': '2025-06-05T12:53:08+00:00', 'author': '(anonymous)', 'keywords': '', 'moddate': '2025-06-05T12:53:08+00:00', 'subject': '(unspecified)', 'title': '(anonymous)', 'trapped': '/False', 'source': 'data/EduTrack_FAQ_assignment.pdf', 'total_pages': 2, 'page': 0, 'page_label': '1'}, page_content='inactivity, declining academic performance, missed deadlines, and low participation.\\nQ5: How does EduTrack benefit teachers?\\nA5: Instructors receive weekly summaries, alerts about disengaged students, and tools to\\nsend personalized feedback or motivational nudges.\\nQ6: Can students access their own dashboards?\\nA6: Yes. Students can view their own learning progress, receive AI-generated tips, and\\ncompare their engagement anonymously against peers.\\nQ7: Does EduTrack support real-time notifications?\\nA7: Yes. Push notifications are sent to students and faculty for approaching deadlines, grade\\nupdates, course announcements, and risk alerts.\\nQ8: Is student data secure?\\nA8: Absolutely. EduTrack complies with FERPA and GDPR standards, uses 256-bit'),\n",
       " Document(metadata={'producer': 'ReportLab PDF Library - www.reportlab.com', 'creator': '(unspecified)', 'creationdate': '2025-06-05T12:53:08+00:00', 'author': '(anonymous)', 'keywords': '', 'moddate': '2025-06-05T12:53:08+00:00', 'subject': '(unspecified)', 'title': '(anonymous)', 'trapped': '/False', 'source': 'data/EduTrack_FAQ_assignment.pdf', 'total_pages': 2, 'page': 0, 'page_label': '1'}, page_content='encryption, and offers fine-grained access control by role.\\nQ9: Can the platform be customized for different programs or departments?\\nA9: Yes. Dashboards, KPIs, alert thresholds, and report formats can all be tailored for\\nacademic units or institutional needs.\\nQ10: What insights can academic administrators gain?'),\n",
       " Document(metadata={'producer': 'ReportLab PDF Library - www.reportlab.com', 'creator': '(unspecified)', 'creationdate': '2025-06-05T12:53:08+00:00', 'author': '(anonymous)', 'keywords': '', 'moddate': '2025-06-05T12:53:08+00:00', 'subject': '(unspecified)', 'title': '(anonymous)', 'trapped': '/False', 'source': 'data/EduTrack_FAQ_assignment.pdf', 'total_pages': 2, 'page': 1, 'page_label': '2'}, page_content='A10: Admins can track student performance trends across courses, compare program\\neffectiveness, and identify gaps in instructor engagement.\\nQ11: Is there a self-hosted version of EduTrack?\\nA11: Yes. EduTrack offers both cloud-hosted SaaS and on-premise deployments for\\ninstitutions with specific data residency needs.\\nQ12: What formats are reports available in?\\nA12: Reports can be downloaded in PDF, CSV, or Excel, and shared via secure URLs or\\nembedded into LMS dashboards.\\nQ13: How often is data updated in the system?\\nA13: Data is refreshed every hour by default. Real-time syncing options are available for\\npremium clients.\\nQ14: Can EduTrack be used in hybrid or blended learning models?\\nA14: Yes. EduTrack consolidates both online interaction data and offline metrics like'),\n",
       " Document(metadata={'producer': 'ReportLab PDF Library - www.reportlab.com', 'creator': '(unspecified)', 'creationdate': '2025-06-05T12:53:08+00:00', 'author': '(anonymous)', 'keywords': '', 'moddate': '2025-06-05T12:53:08+00:00', 'subject': '(unspecified)', 'title': '(anonymous)', 'trapped': '/False', 'source': 'data/EduTrack_FAQ_assignment.pdf', 'total_pages': 2, 'page': 1, 'page_label': '2'}, page_content='attendance to give a full picture of learner behavior.\\nQ15: Does EduTrack support attendance tracking?\\nA15: Yes. It offers digital attendance via QR codes, LMS-based check-ins, and integrations\\nwith biometric or RFID-based systems.\\nQ16: How is pricing structured?\\nA16: Pricing is based on the number of enrolled learners per year. Tiered pricing and volume\\ndiscounts are available for larger institutions.\\nQ17: Is training and onboarding included?\\nA17: Yes. New clients receive onboarding workshops, video tutorials, live Q&A; sessions, and\\naccess to EduTrack’s support portal.\\nQ18: Does EduTrack integrate with Student Information Systems (SIS)?\\nA18: Yes. It can sync with most SIS platforms to fetch enrollment, demographics, and\\nacademic standing data.'),\n",
       " Document(metadata={'producer': 'ReportLab PDF Library - www.reportlab.com', 'creator': '(unspecified)', 'creationdate': '2025-06-05T12:53:08+00:00', 'author': '(anonymous)', 'keywords': '', 'moddate': '2025-06-05T12:53:08+00:00', 'subject': '(unspecified)', 'title': '(anonymous)', 'trapped': '/False', 'source': 'data/EduTrack_FAQ_assignment.pdf', 'total_pages': 2, 'page': 1, 'page_label': '2'}, page_content='academic standing data.\\nQ19: How does EduTrack notify instructors about at-risk students?\\nA19: Faculty receive weekly alerts and visual cues on their dashboards, highlighting students\\nwho need attention based on defined risk thresholds.\\nQ20: Where can users learn about new EduTrack features?\\nA20: Feature updates are published via in-app announcements, email newsletters, and the\\nEduTrack Knowledge Base.')]"
      ]
     },
     "execution_count": 3,
     "metadata": {},
     "output_type": "execute_result"
    }
   ],
   "source": [
    "pdf_splitted"
   ]
  },
  {
   "cell_type": "code",
   "execution_count": 4,
   "id": "50d3a6d7",
   "metadata": {},
   "outputs": [],
   "source": [
    "# Vectorise and store\n",
    "from dotenv import load_dotenv\n",
    "import os\n",
    "from langchain_ollama.embeddings import OllamaEmbeddings\n",
    "from langchain_community.vectorstores import FAISS\n",
    "\n",
    "load_dotenv()\n",
    "os.environ['HF_TOKEN'] = os.getenv('HF_TOKEN')\n",
    "\n",
    "embedding = OllamaEmbeddings(model=\"mxbai-embed-large\")\n",
    "\n",
    "vector_db = FAISS.from_documents(embedding=embedding, documents=pdf_splitted)"
   ]
  },
  {
   "cell_type": "code",
   "execution_count": 5,
   "id": "77072d1e",
   "metadata": {},
   "outputs": [
    {
     "data": {
      "text/plain": [
       "[Document(id='cdf5702d-c9f2-4571-af51-ec41a8e8e581', metadata={'producer': 'ReportLab PDF Library - www.reportlab.com', 'creator': '(unspecified)', 'creationdate': '2025-06-05T12:53:08+00:00', 'author': '(anonymous)', 'keywords': '', 'moddate': '2025-06-05T12:53:08+00:00', 'subject': '(unspecified)', 'title': '(anonymous)', 'trapped': '/False', 'source': 'data/EduTrack_FAQ_assignment.pdf', 'total_pages': 2, 'page': 1, 'page_label': '2'}, page_content='A10: Admins can track student performance trends across courses, compare program\\neffectiveness, and identify gaps in instructor engagement.\\nQ11: Is there a self-hosted version of EduTrack?\\nA11: Yes. EduTrack offers both cloud-hosted SaaS and on-premise deployments for\\ninstitutions with specific data residency needs.\\nQ12: What formats are reports available in?\\nA12: Reports can be downloaded in PDF, CSV, or Excel, and shared via secure URLs or\\nembedded into LMS dashboards.\\nQ13: How often is data updated in the system?\\nA13: Data is refreshed every hour by default. Real-time syncing options are available for\\npremium clients.\\nQ14: Can EduTrack be used in hybrid or blended learning models?\\nA14: Yes. EduTrack consolidates both online interaction data and offline metrics like')]"
      ]
     },
     "execution_count": 5,
     "metadata": {},
     "output_type": "execute_result"
    }
   ],
   "source": [
    "# Simple query to check if result are good\n",
    "vector_db.similarity_search(\"What format can I access reports in?\", k=1)"
   ]
  },
  {
   "cell_type": "code",
   "execution_count": 6,
   "id": "a6f0f7b4",
   "metadata": {},
   "outputs": [],
   "source": [
    "# 4. Setup base prompt temaplate\n",
    "from langchain_core.prompts import ChatPromptTemplate, MessagesPlaceholder\n",
    "\n",
    "template = ChatPromptTemplate.from_messages([\n",
    "    (\"system\",\"You are a funny assistant who answers questions on the basis of the provided context: {context}\"),\n",
    "    MessagesPlaceholder(variable_name=\"chat_history\"),\n",
    "    (\"user\", \"Here's the question: {input}\")\n",
    "])"
   ]
  },
  {
   "cell_type": "code",
   "execution_count": 7,
   "id": "3f681548",
   "metadata": {},
   "outputs": [],
   "source": [
    "# 5. Setup session and messages chain\n",
    "from langchain_core.chat_history import BaseChatMessageHistory\n",
    "from langchain_core.messages import trim_messages\n",
    "from langchain_core.messages.utils import count_tokens_approximately\n",
    "from langchain_community.chat_message_histories import ChatMessageHistory \n",
    "from langchain_core.runnables import RunnablePassthrough\n",
    "from operator import itemgetter\n",
    "from langchain_ollama import ChatOllama\n",
    "from langchain_core.runnables import RunnableWithMessageHistory\n",
    "from langchain.chains.combine_documents import create_stuff_documents_chain\n",
    "from langchain.chains import create_retrieval_chain\n",
    "from langchain_core.runnables import RunnableLambda\n",
    "\n",
    "llm = ChatOllama(model=\"gemma3:4b\")\n",
    "\n",
    "session = {}\n",
    "\n",
    "def get_session_messages(session_id: str) -> BaseChatMessageHistory:\n",
    "    if session_id not in session:\n",
    "        session[session_id] = ChatMessageHistory()\n",
    "    return session[session_id]\n",
    "\n",
    "trimmer = trim_messages(max_tokens=800, strategy=\"last\", include_system=True, token_counter=count_tokens_approximately)\n",
    "\n",
    "# Create retriever\n",
    "retriever = vector_db.as_retriever(k=1)\n",
    "\n",
    "# Create the RAG chain with proper history handling\n",
    "def create_rag_chain():\n",
    "    # Retrieve documents\n",
    "    retrieve_docs = itemgetter(\"input\") | retriever\n",
    "    \n",
    "    # Format the chain\n",
    "    rag_chain = (\n",
    "        RunnablePassthrough.assign(\n",
    "            context=retrieve_docs,\n",
    "            chat_history=lambda x: trimmer.invoke(x.get(\"chat_history\", []))\n",
    "        )\n",
    "        | template\n",
    "        | llm\n",
    "    )\n",
    "    \n",
    "    return rag_chain\n",
    "\n",
    "# Create the main chain\n",
    "rag_chain = create_rag_chain()\n",
    "\n",
    "# Wrap with message history\n",
    "chat_with_history_chain = RunnableWithMessageHistory(\n",
    "    rag_chain,\n",
    "    get_session_history=get_session_messages,\n",
    "    input_messages_key=\"input\",\n",
    "    history_messages_key=\"chat_history\",\n",
    ")"
   ]
  },
  {
   "cell_type": "code",
   "execution_count": 8,
   "id": "4344d77e",
   "metadata": {},
   "outputs": [
    {
     "data": {
      "text/plain": [
       "AIMessage(content='Absolutely! According to the documentation, EduTrack offers both cloud-hosted SaaS and on-premise deployments. So yes, you can definitely self-host it! 😊', additional_kwargs={}, response_metadata={'model': 'gemma3:4b', 'created_at': '2025-07-26T05:09:54.419176Z', 'done': True, 'done_reason': 'stop', 'total_duration': 2434680333, 'load_duration': 59131833, 'prompt_eval_count': 1535, 'prompt_eval_duration': 1752503834, 'eval_count': 35, 'eval_duration': 619006041, 'model_name': 'gemma3:4b'}, id='run--c6fce979-986d-44e8-8c7d-ff1f22b81485-0', usage_metadata={'input_tokens': 1535, 'output_tokens': 35, 'total_tokens': 1570})"
      ]
     },
     "execution_count": 8,
     "metadata": {},
     "output_type": "execute_result"
    }
   ],
   "source": [
    "# 6. Invoke the chain and test out!\n",
    "from langchain_core.messages import HumanMessage\n",
    "config = {'configurable': {'session_id': 1}}\n",
    "\n",
    "res = chat_with_history_chain.invoke({\"input\": \"Can I self host edutrack?\"}, config=config)\n",
    "res"
   ]
  },
  {
   "cell_type": "code",
   "execution_count": 9,
   "id": "1f64c4a1",
   "metadata": {},
   "outputs": [
    {
     "data": {
      "text/plain": [
       "AIMessage(content='Okay, Anirudh! What can I help you with today? 😊', additional_kwargs={}, response_metadata={'model': 'gemma3:4b', 'created_at': '2025-07-26T05:09:56.401646Z', 'done': True, 'done_reason': 'stop', 'total_duration': 1923296125, 'load_duration': 51656833, 'prompt_eval_count': 1485, 'prompt_eval_duration': 1590853167, 'eval_count': 16, 'eval_duration': 271720500, 'model_name': 'gemma3:4b'}, id='run--909f26f2-3024-4372-9412-27d8ce71cc49-0', usage_metadata={'input_tokens': 1485, 'output_tokens': 16, 'total_tokens': 1501})"
      ]
     },
     "execution_count": 9,
     "metadata": {},
     "output_type": "execute_result"
    }
   ],
   "source": [
    "res = chat_with_history_chain.invoke({\"input\": \"My name is Anirudh\"}, config=config)\n",
    "res"
   ]
  },
  {
   "cell_type": "code",
   "execution_count": 11,
   "id": "b488a7c7",
   "metadata": {},
   "outputs": [
    {
     "data": {
      "text/plain": [
       "AIMessage(content='Okay, okay, let’s get this straight! According to the provided documents, your name is Anirudh! \\n\\nSeriously, I’m just repeating it because you asked! 😄', additional_kwargs={}, response_metadata={'model': 'gemma3:4b', 'created_at': '2025-07-26T05:10:13.661194Z', 'done': True, 'done_reason': 'stop', 'total_duration': 2569899791, 'load_duration': 58996916, 'prompt_eval_count': 1550, 'prompt_eval_duration': 1793162417, 'eval_count': 40, 'eval_duration': 699394208, 'model_name': 'gemma3:4b'}, id='run--278a1304-dae8-43e2-87e2-77387d84f95c-0', usage_metadata={'input_tokens': 1550, 'output_tokens': 40, 'total_tokens': 1590})"
      ]
     },
     "execution_count": 11,
     "metadata": {},
     "output_type": "execute_result"
    }
   ],
   "source": [
    "res = chat_with_history_chain.invoke({\"input\": \"What is my name?\"}, config=config)\n",
    "res"
   ]
  },
  {
   "cell_type": "code",
   "execution_count": 12,
   "id": "f4f21426",
   "metadata": {},
   "outputs": [
    {
     "data": {
      "text/plain": [
       "AIMessage(content='According to the documents, new clients receive onboarding workshops, video tutorials, live Q&A sessions, and access to EduTrack’s support portal. So, you’ll be getting a pretty comprehensive team to help you get up and running! 😊', additional_kwargs={}, response_metadata={'model': 'gemma3:4b', 'created_at': '2025-07-26T05:10:41.659941Z', 'done': True, 'done_reason': 'stop', 'total_duration': 2668907291, 'load_duration': 67791041, 'prompt_eval_count': 1508, 'prompt_eval_duration': 1718932083, 'eval_count': 51, 'eval_duration': 859624083, 'model_name': 'gemma3:4b'}, id='run--a01648b0-4a06-4236-86db-10f0c4da0b74-0', usage_metadata={'input_tokens': 1508, 'output_tokens': 51, 'total_tokens': 1559})"
      ]
     },
     "execution_count": 12,
     "metadata": {},
     "output_type": "execute_result"
    }
   ],
   "source": [
    "res = chat_with_history_chain.invoke({\"input\": \"Who will take care of my training?\"}, config=config)\n",
    "res"
   ]
  },
  {
   "cell_type": "code",
   "execution_count": null,
   "id": "4cce8723",
   "metadata": {},
   "outputs": [],
   "source": []
  }
 ],
 "metadata": {
  "kernelspec": {
   "display_name": "base",
   "language": "python",
   "name": "python3"
  },
  "language_info": {
   "codemirror_mode": {
    "name": "ipython",
    "version": 3
   },
   "file_extension": ".py",
   "mimetype": "text/x-python",
   "name": "python",
   "nbconvert_exporter": "python",
   "pygments_lexer": "ipython3",
   "version": "3.12.7"
  }
 },
 "nbformat": 4,
 "nbformat_minor": 5
}
