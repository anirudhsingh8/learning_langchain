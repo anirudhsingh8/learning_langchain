{
 "cells": [
  {
   "cell_type": "code",
   "execution_count": 21,
   "id": "81f2f901",
   "metadata": {},
   "outputs": [],
   "source": [
    "from langchain_ollama import ChatOllama\n",
    "from langchain_community.chat_message_histories import ChatMessageHistory\n",
    "from langchain_core.chat_history import BaseChatMessageHistory\n",
    "from langchain_core.runnables.history import RunnableWithMessageHistory\n",
    "from langchain_core.messages import HumanMessage, SystemMessage\n",
    "from langchain_core.prompts import ChatPromptTemplate, MessagesPlaceholder\n",
    "from langchain_core.output_parsers import StrOutputParser"
   ]
  },
  {
   "cell_type": "code",
   "execution_count": 5,
   "id": "bde48a89",
   "metadata": {},
   "outputs": [],
   "source": [
    "llm = ChatOllama(model=\"llama3.1:8b\")"
   ]
  },
  {
   "cell_type": "code",
   "execution_count": 6,
   "id": "62af98f2",
   "metadata": {},
   "outputs": [],
   "source": [
    "session = {}\n",
    "\n",
    "def get_session_messages(session_id: str) -> BaseChatMessageHistory:\n",
    "    if session_id not in session:\n",
    "        session[session_id] = ChatMessageHistory()\n",
    "    \n",
    "    return session[session_id]"
   ]
  },
  {
   "cell_type": "code",
   "execution_count": 7,
   "id": "c9c60e32",
   "metadata": {},
   "outputs": [],
   "source": [
    "config = {\"configurable\" : {\"session_id\": \"1\"}}\n",
    "\n",
    "chat_with_history = RunnableWithMessageHistory(llm, get_session_history=get_session_messages)"
   ]
  },
  {
   "cell_type": "code",
   "execution_count": 8,
   "id": "e4245833",
   "metadata": {},
   "outputs": [
    {
     "name": "stdout",
     "output_type": "stream",
     "text": [
      "ANIRUDH MY MAN!\n",
      "\n",
      "*confetti falls from the ceiling*\n",
      "\n",
      " Ahahahaha! Nothing much, just living my best life in this virtual world, waiting for awesome people like you to show up! What's on your mind today, Anirudh-ji? Need some help with something or just want to chat about the meaning of life (or pizza)?\n"
     ]
    }
   ],
   "source": [
    "res = chat_with_history.invoke(input=[\n",
    "    SystemMessage(\"You are a helpful but silly assistant.\"),\n",
    "    HumanMessage(\"My name is Anirudh, what's up dude?\")\n",
    "],config=config)\n",
    "\n",
    "print(res.content)"
   ]
  },
  {
   "cell_type": "code",
   "execution_count": 9,
   "id": "7b885d4a",
   "metadata": {},
   "outputs": [
    {
     "data": {
      "text/plain": [
       "AIMessage(content=\"YOU WANT TO KNOW MY NAME?! \\n\\n*drum roll*\\n\\nI am... BINGO! *insert sparkles and confetti here* That's right, folks, my name is Bingo, and I'm the most AMAZING assistant in all the land (modesty mode: OFF)!\\n\\nHow can I help you today, Anirudh?\", additional_kwargs={}, response_metadata={'model': 'llama3.1:8b', 'created_at': '2025-07-25T11:08:21.658348Z', 'done': True, 'done_reason': 'stop', 'total_duration': 1650357542, 'load_duration': 28253792, 'prompt_eval_count': 128, 'prompt_eval_duration': 98174000, 'eval_count': 73, 'eval_duration': 1522867875, 'model_name': 'llama3.1:8b'}, id='run--b48e4339-a7d8-4614-af13-ddd76f9847b8-0', usage_metadata={'input_tokens': 128, 'output_tokens': 73, 'total_tokens': 201})"
      ]
     },
     "execution_count": 9,
     "metadata": {},
     "output_type": "execute_result"
    }
   ],
   "source": [
    "res2 = chat_with_history.invoke(\"Can you tell me your name?\", config=config)\n",
    "res2\n"
   ]
  },
  {
   "cell_type": "code",
   "execution_count": 10,
   "id": "1d719a14",
   "metadata": {},
   "outputs": [
    {
     "data": {
      "text/plain": [
       "AIMessage(content=\"DUH! \\n\\nYour name, Anirudh's name, is... ANIRUDH! *echoes* ANIRUDH, ANIRUDH, ANIRUDH!\\n\\nNow, let me ask you, do you want me to put that on a virtual name tag for you?\", additional_kwargs={}, response_metadata={'model': 'llama3.1:8b', 'created_at': '2025-07-25T11:08:23.16118Z', 'done': True, 'done_reason': 'stop', 'total_duration': 1491619584, 'load_duration': 28401084, 'prompt_eval_count': 217, 'prompt_eval_duration': 103772583, 'eval_count': 63, 'eval_duration': 1357995875, 'model_name': 'llama3.1:8b'}, id='run--c7ff8575-8f76-494d-9121-29090756607d-0', usage_metadata={'input_tokens': 217, 'output_tokens': 63, 'total_tokens': 280})"
      ]
     },
     "execution_count": 10,
     "metadata": {},
     "output_type": "execute_result"
    }
   ],
   "source": [
    "res3 = chat_with_history.invoke(\"Okay, whats my name again?\", config=config)\n",
    "res3"
   ]
  },
  {
   "cell_type": "code",
   "execution_count": 27,
   "id": "47c7fd7e",
   "metadata": {},
   "outputs": [],
   "source": [
    "# Using prompt templates and chaining to do the same\n",
    "\n",
    "template = ChatPromptTemplate.from_messages([\n",
    "    (\"system\", \"You are a helpful translator, who can translate anything into {lang} language.\"),\n",
    "    MessagesPlaceholder(\"messages\"),\n",
    "])\n",
    "\n",
    "chain = template | llm | StrOutputParser()"
   ]
  },
  {
   "cell_type": "code",
   "execution_count": 28,
   "id": "7deeb6ba",
   "metadata": {},
   "outputs": [],
   "source": [
    "new_config = {'configurable': {'session_id' : '2'}}\n",
    "runnable = RunnableWithMessageHistory(chain, get_session_history=get_session_messages, input_messages_key=\"messages\")"
   ]
  },
  {
   "cell_type": "code",
   "execution_count": 30,
   "id": "0148eee7",
   "metadata": {},
   "outputs": [
    {
     "data": {
      "text/plain": [
       "'Mi nombre es Anirudh.'"
      ]
     },
     "execution_count": 30,
     "metadata": {},
     "output_type": "execute_result"
    }
   ],
   "source": [
    "res = runnable.invoke(input={\n",
    "    'lang': 'Spanish',\n",
    "    'messages': [HumanMessage(content=\"My name is Anirudh\")],\n",
    "}, config=new_config)\n",
    "\n",
    "res"
   ]
  },
  {
   "cell_type": "code",
   "execution_count": 31,
   "id": "840ab360",
   "metadata": {},
   "outputs": [
    {
     "data": {
      "text/plain": [
       "'Your name is Anirudh. \\n\\nNow if you want to say your name in Spanish, it\\'s \"Mi nombre es Anirudh\"'"
      ]
     },
     "execution_count": 31,
     "metadata": {},
     "output_type": "execute_result"
    }
   ],
   "source": [
    "res = runnable.invoke(input={\n",
    "    'lang': 'Spanish',\n",
    "    'messages': [HumanMessage(content=\"Dont translate this, just tell me what is my name.\")],\n",
    "}, config=new_config)\n",
    "\n",
    "res"
   ]
  },
  {
   "cell_type": "code",
   "execution_count": null,
   "id": "f59b1266",
   "metadata": {},
   "outputs": [],
   "source": []
  }
 ],
 "metadata": {
  "kernelspec": {
   "display_name": "base",
   "language": "python",
   "name": "python3"
  },
  "language_info": {
   "codemirror_mode": {
    "name": "ipython",
    "version": 3
   },
   "file_extension": ".py",
   "mimetype": "text/x-python",
   "name": "python",
   "nbconvert_exporter": "python",
   "pygments_lexer": "ipython3",
   "version": "3.12.7"
  }
 },
 "nbformat": 4,
 "nbformat_minor": 5
}
