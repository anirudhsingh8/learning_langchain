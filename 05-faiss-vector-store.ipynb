{
 "cells": [
  {
   "cell_type": "code",
   "execution_count": null,
   "id": "26a8e9ee",
   "metadata": {},
   "outputs": [],
   "source": [
    "from langchain_community.vectorstores import FAISS\n",
    "from langchain_community.document_loaders import PyPDFLoader\n",
    "from langchain_ollama.embeddings import OllamaEmbeddings\n",
    "from langchain_text_splitters import RecursiveCharacterTextSplitter, CharacterTextSplitter"
   ]
  },
  {
   "cell_type": "code",
   "execution_count": 105,
   "id": "5afde2b0",
   "metadata": {},
   "outputs": [],
   "source": [
    "pdf_docs = PyPDFLoader(file_path=\"data/EduTrack_FAQ_assignment.pdf\").load()\n",
    "len(pdf_docs)\n",
    "\n",
    "pdf_docs_str = \"\"\n",
    "\n",
    "for doc in pdf_docs:\n",
    "    pdf_docs_str += doc.page_content"
   ]
  },
  {
   "cell_type": "code",
   "execution_count": 106,
   "id": "6ee072b9",
   "metadata": {},
   "outputs": [
    {
     "data": {
      "text/plain": [
       "['EduTrack – Frequently Asked Questions\\nQ1: What is EduTrack used for?\\nA1: EduTrack helps educational institutions monitor student engagement, analyze learning\\nbehavior, and proactively support at-risk learners through data-driven insights.\\nQ2: Which platforms does EduTrack integrate with?\\nA2: EduTrack integrates seamlessly with LMS platforms such as Moodle, Canvas,\\nBlackboard, Google Classroom, and can be extended to custom LMS solutions via API.\\nQ3: What types of student data does EduTrack analyze?\\nA3: It analyzes logins, session duration, assignment submission patterns, quiz scores,\\ndiscussion participation, video viewing activity, and more.\\nQ4: How does EduTrack predict dropout risks?\\nA4: The platform uses machine learning algorithms that flag students at risk based on\\ninactivity, declining academic performance, missed deadlines, and low participation.\\nQ5: How does EduTrack benefit teachers?\\nA5: Instructors receive weekly summaries, alerts about disengaged students, and tools to\\nsend personalized feedback or motivational nudges.\\nQ6: Can students access their own dashboards?\\nA6: Yes. Students can view their own learning progress, receive AI-generated tips, and\\ncompare their engagement anonymously against peers.\\nQ7: Does EduTrack support real-time notifications?\\nA7: Yes. Push notifications are sent to students and faculty for approaching deadlines, grade\\nupdates, course announcements, and risk alerts.\\nQ8: Is student data secure?\\nA8: Absolutely. EduTrack complies with FERPA and GDPR standards, uses 256-bit\\nencryption, and offers fine-grained access control by role.\\nQ9: Can the platform be customized for different programs or departments?\\nA9: Yes. Dashboards, KPIs, alert thresholds, and report formats can all be tailored for\\nacademic units or institutional needs.\\nQ10: What insights can academic administrators gain?A10: Admins can track student performance trends across courses, compare program\\neffectiveness, and identify gaps in instructor engagement.\\nQ11: Is there a self-hosted version of EduTrack?\\nA11: Yes. EduTrack offers both cloud-hosted SaaS and on-premise deployments for\\ninstitutions with specific data residency needs.\\nQ12: What formats are reports available in?\\nA12: Reports can be downloaded in PDF, CSV, or Excel, and shared via secure URLs or\\nembedded into LMS dashboards.\\nQ13: How often is data updated in the system?\\nA13: Data is refreshed every hour by default. Real-time syncing options are available for\\npremium clients.\\nQ14: Can EduTrack be used in hybrid or blended learning models?\\nA14: Yes. EduTrack consolidates both online interaction data and offline metrics like\\nattendance to give a full picture of learner behavior.\\nQ15: Does EduTrack support attendance tracking?\\nA15: Yes. It offers digital attendance via QR codes, LMS-based check-ins, and integrations\\nwith biometric or RFID-based systems.\\nQ16: How is pricing structured?\\nA16: Pricing is based on the number of enrolled learners per year. Tiered pricing and volume\\ndiscounts are available for larger institutions.\\nQ17: Is training and onboarding included?\\nA17: Yes. New clients receive onboarding workshops, video tutorials, live Q&A; sessions, and\\naccess to EduTrack’s support portal.\\nQ18: Does EduTrack integrate with Student Information Systems (SIS)?\\nA18: Yes. It can sync with most SIS platforms to fetch enrollment, demographics, and\\nacademic standing data.\\nQ19: How does EduTrack notify instructors about at-risk students?\\nA19: Faculty receive weekly alerts and visual cues on their dashboards, highlighting students\\nwho need attention based on defined risk thresholds.\\nQ20: Where can users learn about new EduTrack features?\\nA20: Feature updates are published via in-app announcements, email newsletters, and the\\nEduTrack Knowledge Base.']"
      ]
     },
     "execution_count": 106,
     "metadata": {},
     "output_type": "execute_result"
    }
   ],
   "source": [
    "splitter = RecursiveCharacterTextSplitter(chunk_size=360, chunk_overlap = 50)\n",
    "chunked_docs = splitter.split_documents(pdf_docs)\n",
    "chunked_docs\n",
    "\n",
    "# For comaparing accuracy\n",
    "text_spliter = CharacterTextSplitter(chunk_size=1000, chunk_overlap=30)\n",
    "chunked_docs_from_str = text_spliter.split_text(pdf_docs_str)\n",
    "\n",
    "chunked_docs_from_str"
   ]
  },
  {
   "cell_type": "code",
   "execution_count": 107,
   "id": "a21d007f",
   "metadata": {},
   "outputs": [],
   "source": [
    "embedding_model_name = \"nomic-embed-text:latest\"\n",
    "embedding = OllamaEmbeddings(\n",
    "    model=embedding_model_name\n",
    ")"
   ]
  },
  {
   "cell_type": "code",
   "execution_count": 108,
   "id": "36339427",
   "metadata": {},
   "outputs": [
    {
     "name": "stdout",
     "output_type": "stream",
     "text": [
      "<langchain_community.vectorstores.faiss.FAISS object at 0x1335c7500>\n",
      "<langchain_community.vectorstores.faiss.FAISS object at 0x1335c3410>\n"
     ]
    }
   ],
   "source": [
    "db = FAISS.from_documents(chunked_docs, embedding)\n",
    "db2 = FAISS.from_texts(texts=chunked_docs_from_str, embedding=embedding)\n",
    "print(db)\n",
    "print(db2)"
   ]
  },
  {
   "cell_type": "code",
   "execution_count": 109,
   "id": "c0ca6d1c",
   "metadata": {},
   "outputs": [
    {
     "name": "stdout",
     "output_type": "stream",
     "text": [
      "[Document(id='57a5a190-2e9f-40cf-a1af-36c0ebab90ae', metadata={'producer': 'ReportLab PDF Library - www.reportlab.com', 'creator': '(unspecified)', 'creationdate': '2025-06-05T12:53:08+00:00', 'author': '(anonymous)', 'keywords': '', 'moddate': '2025-06-05T12:53:08+00:00', 'subject': '(unspecified)', 'title': '(anonymous)', 'trapped': '/False', 'source': 'data/EduTrack_FAQ_assignment.pdf', 'total_pages': 2, 'page': 1, 'page_label': '2'}, page_content='A18: Yes. It can sync with most SIS platforms to fetch enrollment, demographics, and\\nacademic standing data.\\nQ19: How does EduTrack notify instructors about at-risk students?\\nA19: Faculty receive weekly alerts and visual cues on their dashboards, highlighting students\\nwho need attention based on defined risk thresholds.'), Document(id='90544395-41d9-4d39-86fc-63b71279749d', metadata={'producer': 'ReportLab PDF Library - www.reportlab.com', 'creator': '(unspecified)', 'creationdate': '2025-06-05T12:53:08+00:00', 'author': '(anonymous)', 'keywords': '', 'moddate': '2025-06-05T12:53:08+00:00', 'subject': '(unspecified)', 'title': '(anonymous)', 'trapped': '/False', 'source': 'data/EduTrack_FAQ_assignment.pdf', 'total_pages': 2, 'page': 0, 'page_label': '1'}, page_content='Q5: How does EduTrack benefit teachers?\\nA5: Instructors receive weekly summaries, alerts about disengaged students, and tools to\\nsend personalized feedback or motivational nudges.\\nQ6: Can students access their own dashboards?\\nA6: Yes. Students can view their own learning progress, receive AI-generated tips, and'), Document(id='a25803eb-4195-4dc7-ab13-1e79248dbb7a', metadata={'producer': 'ReportLab PDF Library - www.reportlab.com', 'creator': '(unspecified)', 'creationdate': '2025-06-05T12:53:08+00:00', 'author': '(anonymous)', 'keywords': '', 'moddate': '2025-06-05T12:53:08+00:00', 'subject': '(unspecified)', 'title': '(anonymous)', 'trapped': '/False', 'source': 'data/EduTrack_FAQ_assignment.pdf', 'total_pages': 2, 'page': 0, 'page_label': '1'}, page_content='encryption, and offers fine-grained access control by role.\\nQ9: Can the platform be customized for different programs or departments?\\nA9: Yes. Dashboards, KPIs, alert thresholds, and report formats can all be tailored for\\nacademic units or institutional needs.\\nQ10: What insights can academic administrators gain?'), Document(id='b4700c0b-c21e-4330-bb5c-40d3789ac0be', metadata={'producer': 'ReportLab PDF Library - www.reportlab.com', 'creator': '(unspecified)', 'creationdate': '2025-06-05T12:53:08+00:00', 'author': '(anonymous)', 'keywords': '', 'moddate': '2025-06-05T12:53:08+00:00', 'subject': '(unspecified)', 'title': '(anonymous)', 'trapped': '/False', 'source': 'data/EduTrack_FAQ_assignment.pdf', 'total_pages': 2, 'page': 0, 'page_label': '1'}, page_content='compare their engagement anonymously against peers.\\nQ7: Does EduTrack support real-time notifications?\\nA7: Yes. Push notifications are sent to students and faculty for approaching deadlines, grade\\nupdates, course announcements, and risk alerts.\\nQ8: Is student data secure?\\nA8: Absolutely. EduTrack complies with FERPA and GDPR standards, uses 256-bit')]\n",
      "[Document(id='f28de0ca-6125-464b-af4a-238b50d624ca', metadata={}, page_content='EduTrack – Frequently Asked Questions\\nQ1: What is EduTrack used for?\\nA1: EduTrack helps educational institutions monitor student engagement, analyze learning\\nbehavior, and proactively support at-risk learners through data-driven insights.\\nQ2: Which platforms does EduTrack integrate with?\\nA2: EduTrack integrates seamlessly with LMS platforms such as Moodle, Canvas,\\nBlackboard, Google Classroom, and can be extended to custom LMS solutions via API.\\nQ3: What types of student data does EduTrack analyze?\\nA3: It analyzes logins, session duration, assignment submission patterns, quiz scores,\\ndiscussion participation, video viewing activity, and more.\\nQ4: How does EduTrack predict dropout risks?\\nA4: The platform uses machine learning algorithms that flag students at risk based on\\ninactivity, declining academic performance, missed deadlines, and low participation.\\nQ5: How does EduTrack benefit teachers?\\nA5: Instructors receive weekly summaries, alerts about disengaged students, and tools to\\nsend personalized feedback or motivational nudges.\\nQ6: Can students access their own dashboards?\\nA6: Yes. Students can view their own learning progress, receive AI-generated tips, and\\ncompare their engagement anonymously against peers.\\nQ7: Does EduTrack support real-time notifications?\\nA7: Yes. Push notifications are sent to students and faculty for approaching deadlines, grade\\nupdates, course announcements, and risk alerts.\\nQ8: Is student data secure?\\nA8: Absolutely. EduTrack complies with FERPA and GDPR standards, uses 256-bit\\nencryption, and offers fine-grained access control by role.\\nQ9: Can the platform be customized for different programs or departments?\\nA9: Yes. Dashboards, KPIs, alert thresholds, and report formats can all be tailored for\\nacademic units or institutional needs.\\nQ10: What insights can academic administrators gain?A10: Admins can track student performance trends across courses, compare program\\neffectiveness, and identify gaps in instructor engagement.\\nQ11: Is there a self-hosted version of EduTrack?\\nA11: Yes. EduTrack offers both cloud-hosted SaaS and on-premise deployments for\\ninstitutions with specific data residency needs.\\nQ12: What formats are reports available in?\\nA12: Reports can be downloaded in PDF, CSV, or Excel, and shared via secure URLs or\\nembedded into LMS dashboards.\\nQ13: How often is data updated in the system?\\nA13: Data is refreshed every hour by default. Real-time syncing options are available for\\npremium clients.\\nQ14: Can EduTrack be used in hybrid or blended learning models?\\nA14: Yes. EduTrack consolidates both online interaction data and offline metrics like\\nattendance to give a full picture of learner behavior.\\nQ15: Does EduTrack support attendance tracking?\\nA15: Yes. It offers digital attendance via QR codes, LMS-based check-ins, and integrations\\nwith biometric or RFID-based systems.\\nQ16: How is pricing structured?\\nA16: Pricing is based on the number of enrolled learners per year. Tiered pricing and volume\\ndiscounts are available for larger institutions.\\nQ17: Is training and onboarding included?\\nA17: Yes. New clients receive onboarding workshops, video tutorials, live Q&A; sessions, and\\naccess to EduTrack’s support portal.\\nQ18: Does EduTrack integrate with Student Information Systems (SIS)?\\nA18: Yes. It can sync with most SIS platforms to fetch enrollment, demographics, and\\nacademic standing data.\\nQ19: How does EduTrack notify instructors about at-risk students?\\nA19: Faculty receive weekly alerts and visual cues on their dashboards, highlighting students\\nwho need attention based on defined risk thresholds.\\nQ20: Where can users learn about new EduTrack features?\\nA20: Feature updates are published via in-app announcements, email newsletters, and the\\nEduTrack Knowledge Base.')]\n"
     ]
    }
   ],
   "source": [
    "res = db.similarity_search(\"Can students access their own dashboards?\")\n",
    "print(res)\n",
    "\n",
    "res2 = db2.similarity_search(\"Can students access their own dashboards?\")\n",
    "print(res2)"
   ]
  },
  {
   "cell_type": "code",
   "execution_count": 110,
   "id": "03dccfba",
   "metadata": {},
   "outputs": [
    {
     "name": "stdout",
     "output_type": "stream",
     "text": [
      "[Document(id='9777a2d6-f3bc-4b25-b864-4287ab578208', metadata={'producer': 'ReportLab PDF Library - www.reportlab.com', 'creator': '(unspecified)', 'creationdate': '2025-06-05T12:53:08+00:00', 'author': '(anonymous)', 'keywords': '', 'moddate': '2025-06-05T12:53:08+00:00', 'subject': '(unspecified)', 'title': '(anonymous)', 'trapped': '/False', 'source': 'data/EduTrack_FAQ_assignment.pdf', 'total_pages': 2, 'page': 1, 'page_label': '2'}, page_content='premium clients.\\nQ14: Can EduTrack be used in hybrid or blended learning models?\\nA14: Yes. EduTrack consolidates both online interaction data and offline metrics like\\nattendance to give a full picture of learner behavior.\\nQ15: Does EduTrack support attendance tracking?'), Document(id='3b18570c-638b-4c23-845d-706bdcdad222', metadata={'producer': 'ReportLab PDF Library - www.reportlab.com', 'creator': '(unspecified)', 'creationdate': '2025-06-05T12:53:08+00:00', 'author': '(anonymous)', 'keywords': '', 'moddate': '2025-06-05T12:53:08+00:00', 'subject': '(unspecified)', 'title': '(anonymous)', 'trapped': '/False', 'source': 'data/EduTrack_FAQ_assignment.pdf', 'total_pages': 2, 'page': 0, 'page_label': '1'}, page_content='EduTrack – Frequently Asked Questions\\nQ1: What is EduTrack used for?\\nA1: EduTrack helps educational institutions monitor student engagement, analyze learning\\nbehavior, and proactively support at-risk learners through data-driven insights.\\nQ2: Which platforms does EduTrack integrate with?'), Document(id='0ac83887-ee36-4ba8-93a6-55366e16d0ca', metadata={'producer': 'ReportLab PDF Library - www.reportlab.com', 'creator': '(unspecified)', 'creationdate': '2025-06-05T12:53:08+00:00', 'author': '(anonymous)', 'keywords': '', 'moddate': '2025-06-05T12:53:08+00:00', 'subject': '(unspecified)', 'title': '(anonymous)', 'trapped': '/False', 'source': 'data/EduTrack_FAQ_assignment.pdf', 'total_pages': 2, 'page': 0, 'page_label': '1'}, page_content='Q2: Which platforms does EduTrack integrate with?\\nA2: EduTrack integrates seamlessly with LMS platforms such as Moodle, Canvas,\\nBlackboard, Google Classroom, and can be extended to custom LMS solutions via API.\\nQ3: What types of student data does EduTrack analyze?\\nA3: It analyzes logins, session duration, assignment submission patterns, quiz scores,'), Document(id='e4b26122-3391-4918-8d14-430983c23aa0', metadata={'producer': 'ReportLab PDF Library - www.reportlab.com', 'creator': '(unspecified)', 'creationdate': '2025-06-05T12:53:08+00:00', 'author': '(anonymous)', 'keywords': '', 'moddate': '2025-06-05T12:53:08+00:00', 'subject': '(unspecified)', 'title': '(anonymous)', 'trapped': '/False', 'source': 'data/EduTrack_FAQ_assignment.pdf', 'total_pages': 2, 'page': 1, 'page_label': '2'}, page_content='A10: Admins can track student performance trends across courses, compare program\\neffectiveness, and identify gaps in instructor engagement.\\nQ11: Is there a self-hosted version of EduTrack?\\nA11: Yes. EduTrack offers both cloud-hosted SaaS and on-premise deployments for\\ninstitutions with specific data residency needs.')]\n",
      "[Document(id='f28de0ca-6125-464b-af4a-238b50d624ca', metadata={}, page_content='EduTrack – Frequently Asked Questions\\nQ1: What is EduTrack used for?\\nA1: EduTrack helps educational institutions monitor student engagement, analyze learning\\nbehavior, and proactively support at-risk learners through data-driven insights.\\nQ2: Which platforms does EduTrack integrate with?\\nA2: EduTrack integrates seamlessly with LMS platforms such as Moodle, Canvas,\\nBlackboard, Google Classroom, and can be extended to custom LMS solutions via API.\\nQ3: What types of student data does EduTrack analyze?\\nA3: It analyzes logins, session duration, assignment submission patterns, quiz scores,\\ndiscussion participation, video viewing activity, and more.\\nQ4: How does EduTrack predict dropout risks?\\nA4: The platform uses machine learning algorithms that flag students at risk based on\\ninactivity, declining academic performance, missed deadlines, and low participation.\\nQ5: How does EduTrack benefit teachers?\\nA5: Instructors receive weekly summaries, alerts about disengaged students, and tools to\\nsend personalized feedback or motivational nudges.\\nQ6: Can students access their own dashboards?\\nA6: Yes. Students can view their own learning progress, receive AI-generated tips, and\\ncompare their engagement anonymously against peers.\\nQ7: Does EduTrack support real-time notifications?\\nA7: Yes. Push notifications are sent to students and faculty for approaching deadlines, grade\\nupdates, course announcements, and risk alerts.\\nQ8: Is student data secure?\\nA8: Absolutely. EduTrack complies with FERPA and GDPR standards, uses 256-bit\\nencryption, and offers fine-grained access control by role.\\nQ9: Can the platform be customized for different programs or departments?\\nA9: Yes. Dashboards, KPIs, alert thresholds, and report formats can all be tailored for\\nacademic units or institutional needs.\\nQ10: What insights can academic administrators gain?A10: Admins can track student performance trends across courses, compare program\\neffectiveness, and identify gaps in instructor engagement.\\nQ11: Is there a self-hosted version of EduTrack?\\nA11: Yes. EduTrack offers both cloud-hosted SaaS and on-premise deployments for\\ninstitutions with specific data residency needs.\\nQ12: What formats are reports available in?\\nA12: Reports can be downloaded in PDF, CSV, or Excel, and shared via secure URLs or\\nembedded into LMS dashboards.\\nQ13: How often is data updated in the system?\\nA13: Data is refreshed every hour by default. Real-time syncing options are available for\\npremium clients.\\nQ14: Can EduTrack be used in hybrid or blended learning models?\\nA14: Yes. EduTrack consolidates both online interaction data and offline metrics like\\nattendance to give a full picture of learner behavior.\\nQ15: Does EduTrack support attendance tracking?\\nA15: Yes. It offers digital attendance via QR codes, LMS-based check-ins, and integrations\\nwith biometric or RFID-based systems.\\nQ16: How is pricing structured?\\nA16: Pricing is based on the number of enrolled learners per year. Tiered pricing and volume\\ndiscounts are available for larger institutions.\\nQ17: Is training and onboarding included?\\nA17: Yes. New clients receive onboarding workshops, video tutorials, live Q&A; sessions, and\\naccess to EduTrack’s support portal.\\nQ18: Does EduTrack integrate with Student Information Systems (SIS)?\\nA18: Yes. It can sync with most SIS platforms to fetch enrollment, demographics, and\\nacademic standing data.\\nQ19: How does EduTrack notify instructors about at-risk students?\\nA19: Faculty receive weekly alerts and visual cues on their dashboards, highlighting students\\nwho need attention based on defined risk thresholds.\\nQ20: Where can users learn about new EduTrack features?\\nA20: Feature updates are published via in-app announcements, email newsletters, and the\\nEduTrack Knowledge Base.')]\n"
     ]
    }
   ],
   "source": [
    "res3 = db.similarity_search(\"Can EduTrack be used in hybrid or blended learning models?\")\n",
    "res4 = db2.similarity_search(\"Can EduTrack be used in hybrid or blended learning models?\")\n",
    "print(res3)\n",
    "print(res4)"
   ]
  },
  {
   "cell_type": "code",
   "execution_count": 112,
   "id": "1b5c0c0b",
   "metadata": {},
   "outputs": [],
   "source": [
    "# I am probably doing something wrong, because res4 is always returnig full stored context! Leaving it for now!"
   ]
  },
  {
   "cell_type": "code",
   "execution_count": 118,
   "id": "af7c1b90",
   "metadata": {},
   "outputs": [
    {
     "data": {
      "text/plain": [
       "[Document(id='9777a2d6-f3bc-4b25-b864-4287ab578208', metadata={'producer': 'ReportLab PDF Library - www.reportlab.com', 'creator': '(unspecified)', 'creationdate': '2025-06-05T12:53:08+00:00', 'author': '(anonymous)', 'keywords': '', 'moddate': '2025-06-05T12:53:08+00:00', 'subject': '(unspecified)', 'title': '(anonymous)', 'trapped': '/False', 'source': 'data/EduTrack_FAQ_assignment.pdf', 'total_pages': 2, 'page': 1, 'page_label': '2'}, page_content='premium clients.\\nQ14: Can EduTrack be used in hybrid or blended learning models?\\nA14: Yes. EduTrack consolidates both online interaction data and offline metrics like\\nattendance to give a full picture of learner behavior.\\nQ15: Does EduTrack support attendance tracking?'),\n",
       " Document(id='3b18570c-638b-4c23-845d-706bdcdad222', metadata={'producer': 'ReportLab PDF Library - www.reportlab.com', 'creator': '(unspecified)', 'creationdate': '2025-06-05T12:53:08+00:00', 'author': '(anonymous)', 'keywords': '', 'moddate': '2025-06-05T12:53:08+00:00', 'subject': '(unspecified)', 'title': '(anonymous)', 'trapped': '/False', 'source': 'data/EduTrack_FAQ_assignment.pdf', 'total_pages': 2, 'page': 0, 'page_label': '1'}, page_content='EduTrack – Frequently Asked Questions\\nQ1: What is EduTrack used for?\\nA1: EduTrack helps educational institutions monitor student engagement, analyze learning\\nbehavior, and proactively support at-risk learners through data-driven insights.\\nQ2: Which platforms does EduTrack integrate with?'),\n",
       " Document(id='0ac83887-ee36-4ba8-93a6-55366e16d0ca', metadata={'producer': 'ReportLab PDF Library - www.reportlab.com', 'creator': '(unspecified)', 'creationdate': '2025-06-05T12:53:08+00:00', 'author': '(anonymous)', 'keywords': '', 'moddate': '2025-06-05T12:53:08+00:00', 'subject': '(unspecified)', 'title': '(anonymous)', 'trapped': '/False', 'source': 'data/EduTrack_FAQ_assignment.pdf', 'total_pages': 2, 'page': 0, 'page_label': '1'}, page_content='Q2: Which platforms does EduTrack integrate with?\\nA2: EduTrack integrates seamlessly with LMS platforms such as Moodle, Canvas,\\nBlackboard, Google Classroom, and can be extended to custom LMS solutions via API.\\nQ3: What types of student data does EduTrack analyze?\\nA3: It analyzes logins, session duration, assignment submission patterns, quiz scores,'),\n",
       " Document(id='e4b26122-3391-4918-8d14-430983c23aa0', metadata={'producer': 'ReportLab PDF Library - www.reportlab.com', 'creator': '(unspecified)', 'creationdate': '2025-06-05T12:53:08+00:00', 'author': '(anonymous)', 'keywords': '', 'moddate': '2025-06-05T12:53:08+00:00', 'subject': '(unspecified)', 'title': '(anonymous)', 'trapped': '/False', 'source': 'data/EduTrack_FAQ_assignment.pdf', 'total_pages': 2, 'page': 1, 'page_label': '2'}, page_content='A10: Admins can track student performance trends across courses, compare program\\neffectiveness, and identify gaps in instructor engagement.\\nQ11: Is there a self-hosted version of EduTrack?\\nA11: Yes. EduTrack offers both cloud-hosted SaaS and on-premise deployments for\\ninstitutions with specific data residency needs.')]"
      ]
     },
     "execution_count": 118,
     "metadata": {},
     "output_type": "execute_result"
    }
   ],
   "source": [
    "## Storing the db locally\n",
    "db.save_local('kw1_vector_store')\n",
    "\n",
    "# and to load it again\n",
    "db = FAISS.load_local('kw1_vector_store', embeddings=embedding, allow_dangerous_deserialization=True)\n",
    "res5 = db.similarity_search(\"Can EduTrack be used in hybrid or blended learning models?\")\n",
    "res5"
   ]
  },
  {
   "cell_type": "code",
   "execution_count": null,
   "id": "c861a20c",
   "metadata": {},
   "outputs": [],
   "source": []
  }
 ],
 "metadata": {
  "kernelspec": {
   "display_name": "base",
   "language": "python",
   "name": "python3"
  },
  "language_info": {
   "codemirror_mode": {
    "name": "ipython",
    "version": 3
   },
   "file_extension": ".py",
   "mimetype": "text/x-python",
   "name": "python",
   "nbconvert_exporter": "python",
   "pygments_lexer": "ipython3",
   "version": "3.12.7"
  }
 },
 "nbformat": 4,
 "nbformat_minor": 5
}
