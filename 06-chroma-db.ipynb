{
 "cells": [
  {
   "cell_type": "code",
   "execution_count": 60,
   "id": "dda99b93",
   "metadata": {},
   "outputs": [],
   "source": [
    "from langchain_community.vectorstores import Chroma\n",
    "from langchain_community.document_loaders import PyPDFLoader\n",
    "from langchain_ollama.embeddings import OllamaEmbeddings\n",
    "from langchain_text_splitters import RecursiveCharacterTextSplitter, CharacterTextSplitter"
   ]
  },
  {
   "cell_type": "code",
   "execution_count": 61,
   "id": "5005a885",
   "metadata": {},
   "outputs": [
    {
     "data": {
      "text/plain": [
       "2"
      ]
     },
     "execution_count": 61,
     "metadata": {},
     "output_type": "execute_result"
    }
   ],
   "source": [
    "pdf_docs = PyPDFLoader(file_path=\"data/EduTrack_FAQ_assignment.pdf\").load()\n",
    "len(pdf_docs)"
   ]
  },
  {
   "cell_type": "code",
   "execution_count": 62,
   "id": "51188920",
   "metadata": {},
   "outputs": [
    {
     "data": {
      "text/plain": [
       "[Document(metadata={'producer': 'ReportLab PDF Library - www.reportlab.com', 'creator': '(unspecified)', 'creationdate': '2025-06-05T12:53:08+00:00', 'author': '(anonymous)', 'keywords': '', 'moddate': '2025-06-05T12:53:08+00:00', 'subject': '(unspecified)', 'title': '(anonymous)', 'trapped': '/False', 'source': 'data/EduTrack_FAQ_assignment.pdf', 'total_pages': 2, 'page': 0, 'page_label': '1'}, page_content='EduTrack – Frequently Asked Questions\\nQ1: What is EduTrack used for?\\nA1: EduTrack helps educational institutions monitor student engagement, analyze learning\\nbehavior, and proactively support at-risk learners through data-driven insights.\\nQ2: Which platforms does EduTrack integrate with?'),\n",
       " Document(metadata={'producer': 'ReportLab PDF Library - www.reportlab.com', 'creator': '(unspecified)', 'creationdate': '2025-06-05T12:53:08+00:00', 'author': '(anonymous)', 'keywords': '', 'moddate': '2025-06-05T12:53:08+00:00', 'subject': '(unspecified)', 'title': '(anonymous)', 'trapped': '/False', 'source': 'data/EduTrack_FAQ_assignment.pdf', 'total_pages': 2, 'page': 0, 'page_label': '1'}, page_content='Q2: Which platforms does EduTrack integrate with?\\nA2: EduTrack integrates seamlessly with LMS platforms such as Moodle, Canvas,\\nBlackboard, Google Classroom, and can be extended to custom LMS solutions via API.\\nQ3: What types of student data does EduTrack analyze?\\nA3: It analyzes logins, session duration, assignment submission patterns, quiz scores,'),\n",
       " Document(metadata={'producer': 'ReportLab PDF Library - www.reportlab.com', 'creator': '(unspecified)', 'creationdate': '2025-06-05T12:53:08+00:00', 'author': '(anonymous)', 'keywords': '', 'moddate': '2025-06-05T12:53:08+00:00', 'subject': '(unspecified)', 'title': '(anonymous)', 'trapped': '/False', 'source': 'data/EduTrack_FAQ_assignment.pdf', 'total_pages': 2, 'page': 0, 'page_label': '1'}, page_content='discussion participation, video viewing activity, and more.\\nQ4: How does EduTrack predict dropout risks?\\nA4: The platform uses machine learning algorithms that flag students at risk based on\\ninactivity, declining academic performance, missed deadlines, and low participation.\\nQ5: How does EduTrack benefit teachers?'),\n",
       " Document(metadata={'producer': 'ReportLab PDF Library - www.reportlab.com', 'creator': '(unspecified)', 'creationdate': '2025-06-05T12:53:08+00:00', 'author': '(anonymous)', 'keywords': '', 'moddate': '2025-06-05T12:53:08+00:00', 'subject': '(unspecified)', 'title': '(anonymous)', 'trapped': '/False', 'source': 'data/EduTrack_FAQ_assignment.pdf', 'total_pages': 2, 'page': 0, 'page_label': '1'}, page_content='Q5: How does EduTrack benefit teachers?\\nA5: Instructors receive weekly summaries, alerts about disengaged students, and tools to\\nsend personalized feedback or motivational nudges.\\nQ6: Can students access their own dashboards?\\nA6: Yes. Students can view their own learning progress, receive AI-generated tips, and'),\n",
       " Document(metadata={'producer': 'ReportLab PDF Library - www.reportlab.com', 'creator': '(unspecified)', 'creationdate': '2025-06-05T12:53:08+00:00', 'author': '(anonymous)', 'keywords': '', 'moddate': '2025-06-05T12:53:08+00:00', 'subject': '(unspecified)', 'title': '(anonymous)', 'trapped': '/False', 'source': 'data/EduTrack_FAQ_assignment.pdf', 'total_pages': 2, 'page': 0, 'page_label': '1'}, page_content='compare their engagement anonymously against peers.\\nQ7: Does EduTrack support real-time notifications?\\nA7: Yes. Push notifications are sent to students and faculty for approaching deadlines, grade\\nupdates, course announcements, and risk alerts.\\nQ8: Is student data secure?\\nA8: Absolutely. EduTrack complies with FERPA and GDPR standards, uses 256-bit'),\n",
       " Document(metadata={'producer': 'ReportLab PDF Library - www.reportlab.com', 'creator': '(unspecified)', 'creationdate': '2025-06-05T12:53:08+00:00', 'author': '(anonymous)', 'keywords': '', 'moddate': '2025-06-05T12:53:08+00:00', 'subject': '(unspecified)', 'title': '(anonymous)', 'trapped': '/False', 'source': 'data/EduTrack_FAQ_assignment.pdf', 'total_pages': 2, 'page': 0, 'page_label': '1'}, page_content='encryption, and offers fine-grained access control by role.\\nQ9: Can the platform be customized for different programs or departments?\\nA9: Yes. Dashboards, KPIs, alert thresholds, and report formats can all be tailored for\\nacademic units or institutional needs.\\nQ10: What insights can academic administrators gain?'),\n",
       " Document(metadata={'producer': 'ReportLab PDF Library - www.reportlab.com', 'creator': '(unspecified)', 'creationdate': '2025-06-05T12:53:08+00:00', 'author': '(anonymous)', 'keywords': '', 'moddate': '2025-06-05T12:53:08+00:00', 'subject': '(unspecified)', 'title': '(anonymous)', 'trapped': '/False', 'source': 'data/EduTrack_FAQ_assignment.pdf', 'total_pages': 2, 'page': 1, 'page_label': '2'}, page_content='A10: Admins can track student performance trends across courses, compare program\\neffectiveness, and identify gaps in instructor engagement.\\nQ11: Is there a self-hosted version of EduTrack?\\nA11: Yes. EduTrack offers both cloud-hosted SaaS and on-premise deployments for\\ninstitutions with specific data residency needs.'),\n",
       " Document(metadata={'producer': 'ReportLab PDF Library - www.reportlab.com', 'creator': '(unspecified)', 'creationdate': '2025-06-05T12:53:08+00:00', 'author': '(anonymous)', 'keywords': '', 'moddate': '2025-06-05T12:53:08+00:00', 'subject': '(unspecified)', 'title': '(anonymous)', 'trapped': '/False', 'source': 'data/EduTrack_FAQ_assignment.pdf', 'total_pages': 2, 'page': 1, 'page_label': '2'}, page_content='institutions with specific data residency needs.\\nQ12: What formats are reports available in?\\nA12: Reports can be downloaded in PDF, CSV, or Excel, and shared via secure URLs or\\nembedded into LMS dashboards.\\nQ13: How often is data updated in the system?\\nA13: Data is refreshed every hour by default. Real-time syncing options are available for\\npremium clients.'),\n",
       " Document(metadata={'producer': 'ReportLab PDF Library - www.reportlab.com', 'creator': '(unspecified)', 'creationdate': '2025-06-05T12:53:08+00:00', 'author': '(anonymous)', 'keywords': '', 'moddate': '2025-06-05T12:53:08+00:00', 'subject': '(unspecified)', 'title': '(anonymous)', 'trapped': '/False', 'source': 'data/EduTrack_FAQ_assignment.pdf', 'total_pages': 2, 'page': 1, 'page_label': '2'}, page_content='premium clients.\\nQ14: Can EduTrack be used in hybrid or blended learning models?\\nA14: Yes. EduTrack consolidates both online interaction data and offline metrics like\\nattendance to give a full picture of learner behavior.\\nQ15: Does EduTrack support attendance tracking?'),\n",
       " Document(metadata={'producer': 'ReportLab PDF Library - www.reportlab.com', 'creator': '(unspecified)', 'creationdate': '2025-06-05T12:53:08+00:00', 'author': '(anonymous)', 'keywords': '', 'moddate': '2025-06-05T12:53:08+00:00', 'subject': '(unspecified)', 'title': '(anonymous)', 'trapped': '/False', 'source': 'data/EduTrack_FAQ_assignment.pdf', 'total_pages': 2, 'page': 1, 'page_label': '2'}, page_content='Q15: Does EduTrack support attendance tracking?\\nA15: Yes. It offers digital attendance via QR codes, LMS-based check-ins, and integrations\\nwith biometric or RFID-based systems.\\nQ16: How is pricing structured?\\nA16: Pricing is based on the number of enrolled learners per year. Tiered pricing and volume\\ndiscounts are available for larger institutions.'),\n",
       " Document(metadata={'producer': 'ReportLab PDF Library - www.reportlab.com', 'creator': '(unspecified)', 'creationdate': '2025-06-05T12:53:08+00:00', 'author': '(anonymous)', 'keywords': '', 'moddate': '2025-06-05T12:53:08+00:00', 'subject': '(unspecified)', 'title': '(anonymous)', 'trapped': '/False', 'source': 'data/EduTrack_FAQ_assignment.pdf', 'total_pages': 2, 'page': 1, 'page_label': '2'}, page_content='discounts are available for larger institutions.\\nQ17: Is training and onboarding included?\\nA17: Yes. New clients receive onboarding workshops, video tutorials, live Q&A; sessions, and\\naccess to EduTrack’s support portal.\\nQ18: Does EduTrack integrate with Student Information Systems (SIS)?'),\n",
       " Document(metadata={'producer': 'ReportLab PDF Library - www.reportlab.com', 'creator': '(unspecified)', 'creationdate': '2025-06-05T12:53:08+00:00', 'author': '(anonymous)', 'keywords': '', 'moddate': '2025-06-05T12:53:08+00:00', 'subject': '(unspecified)', 'title': '(anonymous)', 'trapped': '/False', 'source': 'data/EduTrack_FAQ_assignment.pdf', 'total_pages': 2, 'page': 1, 'page_label': '2'}, page_content='A18: Yes. It can sync with most SIS platforms to fetch enrollment, demographics, and\\nacademic standing data.\\nQ19: How does EduTrack notify instructors about at-risk students?\\nA19: Faculty receive weekly alerts and visual cues on their dashboards, highlighting students\\nwho need attention based on defined risk thresholds.'),\n",
       " Document(metadata={'producer': 'ReportLab PDF Library - www.reportlab.com', 'creator': '(unspecified)', 'creationdate': '2025-06-05T12:53:08+00:00', 'author': '(anonymous)', 'keywords': '', 'moddate': '2025-06-05T12:53:08+00:00', 'subject': '(unspecified)', 'title': '(anonymous)', 'trapped': '/False', 'source': 'data/EduTrack_FAQ_assignment.pdf', 'total_pages': 2, 'page': 1, 'page_label': '2'}, page_content='Q20: Where can users learn about new EduTrack features?\\nA20: Feature updates are published via in-app announcements, email newsletters, and the\\nEduTrack Knowledge Base.')]"
      ]
     },
     "execution_count": 62,
     "metadata": {},
     "output_type": "execute_result"
    }
   ],
   "source": [
    "splitter = RecursiveCharacterTextSplitter(chunk_size=360, chunk_overlap = 50)\n",
    "chunked_docs = splitter.split_documents(pdf_docs)\n",
    "chunked_docs"
   ]
  },
  {
   "cell_type": "code",
   "execution_count": 63,
   "id": "a0d0de54",
   "metadata": {},
   "outputs": [],
   "source": [
    "embedding_model_name = \"nomic-embed-text:latest\"\n",
    "embedding = OllamaEmbeddings(\n",
    "    model=embedding_model_name\n",
    ")"
   ]
  },
  {
   "cell_type": "code",
   "execution_count": 64,
   "id": "37a050c0",
   "metadata": {},
   "outputs": [
    {
     "data": {
      "text/plain": [
       "<langchain_community.vectorstores.chroma.Chroma at 0x16cc9d760>"
      ]
     },
     "execution_count": 64,
     "metadata": {},
     "output_type": "execute_result"
    }
   ],
   "source": [
    "db = Chroma.from_documents(chunked_docs, embedding, persist_directory=\"./chrome_db\") # To save it in disk\n",
    "db\n",
    "\n",
    "# To read it from disk\n",
    "# db = Chroma(embedding_function=embedding,persist_directory=\"./chrome_db\")"
   ]
  },
  {
   "cell_type": "code",
   "execution_count": 65,
   "id": "b5fed794",
   "metadata": {},
   "outputs": [
    {
     "data": {
      "text/plain": [
       "[Document(metadata={'title': '(anonymous)', 'trapped': '/False', 'source': 'data/EduTrack_FAQ_assignment.pdf', 'moddate': '2025-06-05T12:53:08+00:00', 'producer': 'ReportLab PDF Library - www.reportlab.com', 'total_pages': 2, 'author': '(anonymous)', 'page': 0, 'subject': '(unspecified)', 'creationdate': '2025-06-05T12:53:08+00:00', 'creator': '(unspecified)', 'page_label': '1', 'keywords': ''}, page_content='Q5: How does EduTrack benefit teachers?\\nA5: Instructors receive weekly summaries, alerts about disengaged students, and tools to\\nsend personalized feedback or motivational nudges.\\nQ6: Can students access their own dashboards?\\nA6: Yes. Students can view their own learning progress, receive AI-generated tips, and'),\n",
       " Document(metadata={'page_label': '1', 'source': 'data/EduTrack_FAQ_assignment.pdf', 'total_pages': 2, 'creationdate': '2025-06-05T12:53:08+00:00', 'keywords': '', 'title': '(anonymous)', 'trapped': '/False', 'page': 0, 'author': '(anonymous)', 'moddate': '2025-06-05T12:53:08+00:00', 'producer': 'ReportLab PDF Library - www.reportlab.com', 'creator': '(unspecified)', 'subject': '(unspecified)'}, page_content='Q5: How does EduTrack benefit teachers?\\nA5: Instructors receive weekly summaries, alerts about disengaged students, and tools to\\nsend personalized feedback or motivational nudges.\\nQ6: Can students access their own dashboards?\\nA6: Yes. Students can view their own learning progress, receive AI-generated tips, and'),\n",
       " Document(metadata={'moddate': '2025-06-05T12:53:08+00:00', 'author': '(anonymous)', 'total_pages': 2, 'title': '(anonymous)', 'page': 0, 'trapped': '/False', 'keywords': '', 'creationdate': '2025-06-05T12:53:08+00:00', 'subject': '(unspecified)', 'page_label': '1', 'producer': 'ReportLab PDF Library - www.reportlab.com', 'creator': '(unspecified)', 'source': 'data/EduTrack_FAQ_assignment.pdf'}, page_content='Q5: How does EduTrack benefit teachers?\\nA5: Instructors receive weekly summaries, alerts about disengaged students, and tools to\\nsend personalized feedback or motivational nudges.\\nQ6: Can students access their own dashboards?\\nA6: Yes. Students can view their own learning progress, receive AI-generated tips, and'),\n",
       " Document(metadata={'author': '(anonymous)', 'creationdate': '2025-06-05T12:53:08+00:00', 'page': 0, 'source': 'data/EduTrack_FAQ_assignment.pdf', 'keywords': '', 'title': '(anonymous)', 'producer': 'ReportLab PDF Library - www.reportlab.com', 'trapped': '/False', 'creator': '(unspecified)', 'total_pages': 2, 'subject': '(unspecified)', 'page_label': '1', 'moddate': '2025-06-05T12:53:08+00:00'}, page_content='Q5: How does EduTrack benefit teachers?\\nA5: Instructors receive weekly summaries, alerts about disengaged students, and tools to\\nsend personalized feedback or motivational nudges.\\nQ6: Can students access their own dashboards?\\nA6: Yes. Students can view their own learning progress, receive AI-generated tips, and')]"
      ]
     },
     "execution_count": 65,
     "metadata": {},
     "output_type": "execute_result"
    }
   ],
   "source": [
    "res = db.similarity_search(\"Is EduTrack beneficial for teachers as well?\")\n",
    "res"
   ]
  },
  {
   "cell_type": "code",
   "execution_count": 66,
   "id": "08368308",
   "metadata": {},
   "outputs": [
    {
     "data": {
      "text/plain": [
       "<langchain_community.vectorstores.chroma.Chroma at 0x16cc9d760>"
      ]
     },
     "execution_count": 66,
     "metadata": {},
     "output_type": "execute_result"
    }
   ],
   "source": [
    "db"
   ]
  },
  {
   "cell_type": "code",
   "execution_count": 67,
   "id": "cbdd996e",
   "metadata": {},
   "outputs": [
    {
     "data": {
      "text/plain": [
       "Document(metadata={'page': 0, 'title': '(anonymous)', 'subject': '(unspecified)', 'creationdate': '2025-06-05T12:53:08+00:00', 'producer': 'ReportLab PDF Library - www.reportlab.com', 'source': 'data/EduTrack_FAQ_assignment.pdf', 'creator': '(unspecified)', 'author': '(anonymous)', 'total_pages': 2, 'moddate': '2025-06-05T12:53:08+00:00', 'page_label': '1', 'keywords': '', 'trapped': '/False'}, page_content='Q5: How does EduTrack benefit teachers?\\nA5: Instructors receive weekly summaries, alerts about disengaged students, and tools to\\nsend personalized feedback or motivational nudges.\\nQ6: Can students access their own dashboards?\\nA6: Yes. Students can view their own learning progress, receive AI-generated tips, and')"
      ]
     },
     "execution_count": 67,
     "metadata": {},
     "output_type": "execute_result"
    }
   ],
   "source": [
    "# Retrieve option\n",
    "retr = db.as_retriever()\n",
    "retr.invoke(\"Is EduTrack beneficial for teachers as well?\")[0]"
   ]
  },
  {
   "cell_type": "code",
   "execution_count": null,
   "id": "950aa433",
   "metadata": {},
   "outputs": [],
   "source": []
  }
 ],
 "metadata": {
  "kernelspec": {
   "display_name": "base",
   "language": "python",
   "name": "python3"
  },
  "language_info": {
   "codemirror_mode": {
    "name": "ipython",
    "version": 3
   },
   "file_extension": ".py",
   "mimetype": "text/x-python",
   "name": "python",
   "nbconvert_exporter": "python",
   "pygments_lexer": "ipython3",
   "version": "3.12.7"
  }
 },
 "nbformat": 4,
 "nbformat_minor": 5
}
