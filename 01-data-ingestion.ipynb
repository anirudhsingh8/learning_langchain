{
 "cells": [
  {
   "cell_type": "code",
   "execution_count": 19,
   "id": "07850003",
   "metadata": {},
   "outputs": [],
   "source": [
    "from langchain_community.document_loaders import PyPDFLoader"
   ]
  },
  {
   "cell_type": "code",
   "execution_count": 20,
   "id": "ea037345",
   "metadata": {},
   "outputs": [],
   "source": [
    "pages = PyPDFLoader(file_path=\"data/EduTrack_FAQ_assignment.pdf\").load()"
   ]
  },
  {
   "cell_type": "code",
   "execution_count": 21,
   "id": "66ee05a0",
   "metadata": {},
   "outputs": [
    {
     "data": {
      "text/plain": [
       "{'producer': 'ReportLab PDF Library - www.reportlab.com',\n",
       " 'creator': '(unspecified)',\n",
       " 'creationdate': '2025-06-05T12:53:08+00:00',\n",
       " 'author': '(anonymous)',\n",
       " 'keywords': '',\n",
       " 'moddate': '2025-06-05T12:53:08+00:00',\n",
       " 'subject': '(unspecified)',\n",
       " 'title': '(anonymous)',\n",
       " 'trapped': '/False',\n",
       " 'source': 'data/EduTrack_FAQ_assignment.pdf',\n",
       " 'total_pages': 2,\n",
       " 'page': 0,\n",
       " 'page_label': '1'}"
      ]
     },
     "execution_count": 21,
     "metadata": {},
     "output_type": "execute_result"
    }
   ],
   "source": [
    "pages[0].metadata"
   ]
  },
  {
   "cell_type": "code",
   "execution_count": 22,
   "id": "22b94963",
   "metadata": {},
   "outputs": [
    {
     "name": "stdout",
     "output_type": "stream",
     "text": [
      "EduTrack – Frequently Asked Questions\n",
      "Q1: What is EduTrack used for?\n",
      "A1: EduTrack helps educational institutions monitor student engagement, analyze learning\n",
      "behavior, and proactively support at-risk learners through data-driven insights.\n",
      "Q2: Which platforms does EduTrack integrate with?\n",
      "A2: EduTrack integrates seamlessly with LMS platforms such as Moodle, Canvas,\n",
      "Blackboard, Google Classroom, and can be extended to custom LMS solutions via API.\n",
      "Q3: What types of student data does EduTrack analyze?\n",
      "A3: It analyzes logins, session duration, assignment submission patterns, quiz scores,\n",
      "discussion participation, video viewing activity, and more.\n",
      "Q4: How does EduTrack predict dropout risks?\n",
      "A4: The platform uses machine learning algorithms that flag students at risk based on\n",
      "inactivity, declining academic performance, missed deadlines, and low participation.\n",
      "Q5: How does EduTrack benefit teachers?\n",
      "A5: Instructors receive weekly summaries, alerts about disengaged students, and tools to\n",
      "send personalized feedback or motivational nudges.\n",
      "Q6: Can students access their own dashboards?\n",
      "A6: Yes. Students can view their own learning progress, receive AI-generated tips, and\n",
      "compare their engagement anonymously against peers.\n",
      "Q7: Does EduTrack support real-time notifications?\n",
      "A7: Yes. Push notifications are sent to students and faculty for approaching deadlines, grade\n",
      "updates, course announcements, and risk alerts.\n",
      "Q8: Is student data secure?\n",
      "A8: Absolutely. EduTrack complies with FERPA and GDPR standards, uses 256-bit\n",
      "encryption, and offers fine-grained access control by role.\n",
      "Q9: Can the platform be customized for different programs or departments?\n",
      "A9: Yes. Dashboards, KPIs, alert thresholds, and report formats can all be tailored for\n",
      "academic units or institutional needs.\n",
      "Q10: What insights can academic administrators gain?\n"
     ]
    }
   ],
   "source": [
    "print(pages[0].page_content)"
   ]
  },
  {
   "cell_type": "code",
   "execution_count": null,
   "id": "1fad3014",
   "metadata": {},
   "outputs": [],
   "source": []
  }
 ],
 "metadata": {
  "kernelspec": {
   "display_name": "base",
   "language": "python",
   "name": "python3"
  },
  "language_info": {
   "codemirror_mode": {
    "name": "ipython",
    "version": 3
   },
   "file_extension": ".py",
   "mimetype": "text/x-python",
   "name": "python",
   "nbconvert_exporter": "python",
   "pygments_lexer": "ipython3",
   "version": "3.12.7"
  }
 },
 "nbformat": 4,
 "nbformat_minor": 5
}
