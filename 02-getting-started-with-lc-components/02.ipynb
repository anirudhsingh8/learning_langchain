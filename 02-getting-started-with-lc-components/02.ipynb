{
 "cells": [
  {
   "cell_type": "code",
   "execution_count": 5,
   "id": "05d3804b",
   "metadata": {},
   "outputs": [],
   "source": [
    "from langchain_ollama.chat_models import ChatOllama\n",
    "from langchain_core.prompts import PromptTemplate\n",
    "from langchain_core.output_parsers import StrOutputParser\n",
    "from dotenv import load_dotenv"
   ]
  },
  {
   "cell_type": "code",
   "execution_count": 10,
   "id": "1555368e",
   "metadata": {},
   "outputs": [],
   "source": [
    "load_dotenv()\n",
    "\n",
    "llm = ChatOllama(\n",
    "    model=\"deepseek-r1:8b\",\n",
    "    reasoning=True,\n",
    ")\n",
    "\n",
    "prompt = PromptTemplate.from_template(\"Tell me something about: {name}\")\n",
    "\n",
    "output_parser = StrOutputParser()"
   ]
  },
  {
   "cell_type": "code",
   "execution_count": 11,
   "id": "066ab686",
   "metadata": {},
   "outputs": [
    {
     "data": {
      "text/plain": [
       "'Okay, let\\'s break down \"Pedestal of Doomsday.\" There might be a slight confusion in the phrasing because there are two distinct things with similar names that people sometimes mix up:\\n\\n1.  **The Doomsday Machine (from Stanley Kubrick\\'s *2010: The Year We Make Contact*):**\\n    *   This is perhaps what you\\'re thinking of, based on the spelling \"pedestal\" (though it doesn\\'t physically have a pedestal in the movie).\\n    *   It refers to an immense, powerful, and unforgivable superweapon built by humanity using knowledge from a probe sent to Alpha Centauri.\\n    *   **Key points:**\\n        *   Designed as an ultimate deterrent against existential threats like hostile alien civilizations or rogue technology (like Jupiter\\'s flyby object).\\n        *   It was assembled on the Moon, not necessarily with a physical pedestal structure named \"Pedestal.\"\\n        *   The term \"pedestal\" might be a mis-remembering of related project names (e.g., Project Pele) or just a common association.\\n        *   This machine is depicted as being completely unstoppable and unforgivable by its creators, leading to profound regret. Its activation protocol requires the input of 26 specific coordinates on Earth.\\n\\n2.  **The Doomsday Pedestal (from R.A. Salvatore\\'s *Drizzt Do\\'Urden* book series):**\\n    *   This is a specific plot device within the Forgotten Realms fantasy universe.\\n    *   It refers to an ancient, powerful artifact pedestal located in Menzobothalas, the capital city of the drow (subterranean elves) in the Underdark. The Netheril civilization built it before its destruction and later used it on their homeworld, eventually bringing it back to the Underdark.\\n    *   **Key points:**\\n        *   It\\'s a tall structure made of black stone with intricate carvings.\\n        *   Placed upon it is an ancient, glowing skull of Netheril. This skull represents immense power and holds the secret knowledge of Netheril\\'s past transgressions against other nations (including the genocide of the inhabitants of Menzobothalas).\\n        *   The pedestal acts as a conduit for this power.\\n        *   It is triggered by three specific events occurring simultaneously in the surface world: an eclipse, a meteor impact, and a nuclear explosion. This triggers its destruction via remote activation.\\n\\n**So, summarizing:**\\n\\n*   **Doomsday Machine:** A real-world sci-fi concept (though never built) of an ultimate unstoppable weapon.\\n*   **Doomsday Pedestal:** A specific fictional artifact from the *Drizzt Do\\'Urden* book series used to trigger destruction by accessing forbidden knowledge.\\n\\nThe \"Pedestal\" part in your query likely refers to either a component of (or confusion with) the real-world *Doomsday Machine* concept or, more directly, the fantasy *Doomsday Pedestal*. Both are fictional elements intended for story purposes.'"
      ]
     },
     "execution_count": 11,
     "metadata": {},
     "output_type": "execute_result"
    }
   ],
   "source": [
    "chain = prompt | llm | output_parser\n",
    "res = chain.invoke({'name': \"Padestal of dooms day\"})\n",
    "res"
   ]
  },
  {
   "cell_type": "code",
   "execution_count": null,
   "id": "7a71ba3f",
   "metadata": {},
   "outputs": [],
   "source": []
  }
 ],
 "metadata": {
  "kernelspec": {
   "display_name": ".venv",
   "language": "python",
   "name": "python3"
  },
  "language_info": {
   "codemirror_mode": {
    "name": "ipython",
    "version": 3
   },
   "file_extension": ".py",
   "mimetype": "text/x-python",
   "name": "python",
   "nbconvert_exporter": "python",
   "pygments_lexer": "ipython3",
   "version": "3.12.11"
  }
 },
 "nbformat": 4,
 "nbformat_minor": 5
}
