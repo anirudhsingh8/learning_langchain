{
 "cells": [
  {
   "cell_type": "code",
   "execution_count": 3,
   "id": "fc3d6372",
   "metadata": {},
   "outputs": [
    {
     "data": {
      "text/plain": [
       "True"
      ]
     },
     "execution_count": 3,
     "metadata": {},
     "output_type": "execute_result"
    }
   ],
   "source": [
    "from langchain_openai import ChatOpenAI\n",
    "from dotenv import load_dotenv\n",
    "import os\n",
    "\n",
    "load_dotenv()"
   ]
  },
  {
   "cell_type": "code",
   "execution_count": 4,
   "id": "ec8b0d05",
   "metadata": {},
   "outputs": [],
   "source": [
    "chat_open_ai = ChatOpenAI(\n",
    "    model=\"gpt-4o-mini\",\n",
    "    api_key=os.getenv(\"OPENAI_KEY\")\n",
    ")"
   ]
  },
  {
   "cell_type": "code",
   "execution_count": 7,
   "id": "784e7341",
   "metadata": {},
   "outputs": [],
   "source": [
    "res = chat_open_ai.invoke(\"What is gen-ai? Explain me like I was 5.\")"
   ]
  },
  {
   "cell_type": "code",
   "execution_count": 8,
   "id": "6d4bdd6a",
   "metadata": {},
   "outputs": [
    {
     "data": {
      "text/plain": [
       "'Okay! Imagine you have a really smart robot friend. This robot can talk to you, help you with your homework, and even tell you fun stories. This robot learns from all kinds of information, like books and pictures, so it can understand and help with many things. \\n\\n\"Gen-ai\" is short for \"Generative AI,\" and it’s a fancy way to say that this smart robot can create new things, like pictures, stories, or songs, by using what it has learned. So when you ask it to make something new, it can use its brain to come up with cool ideas all by itself!'"
      ]
     },
     "execution_count": 8,
     "metadata": {},
     "output_type": "execute_result"
    }
   ],
   "source": [
    "res.content"
   ]
  },
  {
   "cell_type": "code",
   "execution_count": null,
   "id": "9231871e",
   "metadata": {},
   "outputs": [],
   "source": []
  }
 ],
 "metadata": {
  "kernelspec": {
   "display_name": "base",
   "language": "python",
   "name": "python3"
  },
  "language_info": {
   "codemirror_mode": {
    "name": "ipython",
    "version": 3
   },
   "file_extension": ".py",
   "mimetype": "text/x-python",
   "name": "python",
   "nbconvert_exporter": "python",
   "pygments_lexer": "ipython3",
   "version": "3.12.7"
  }
 },
 "nbformat": 4,
 "nbformat_minor": 5
}
